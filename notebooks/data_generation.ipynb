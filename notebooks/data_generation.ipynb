{
 "cells": [
  {
   "cell_type": "code",
   "execution_count": 102,
   "metadata": {},
   "outputs": [],
   "source": [
    "import numpy as np\n",
    "import pandas as pd\n",
    "from pathlib import PurePath\n",
    "import os\n",
    "import sys\n",
    "module_path = os.path.abspath(os.path.join('..'))\n",
    "if module_path not in sys.path:\n",
    "    sys.path.append(module_path)"
   ]
  },
  {
   "cell_type": "code",
   "execution_count": 2,
   "metadata": {},
   "outputs": [],
   "source": [
    "# def generate_graph_seq2seq_io_data(\n",
    "#         df, x_offsets, y_offsets, add_time_in_day=True, add_day_in_week=False, scaler=None\n",
    "# ):\n",
    "#     \"\"\"\n",
    "#     Generate samples from\n",
    "#     :param df:\n",
    "#     :param x_offsets:\n",
    "#     :param y_offsets:\n",
    "#     :param add_time_in_day:\n",
    "#     :param add_day_in_week:\n",
    "#     :param scaler:\n",
    "#     :return:\n",
    "#     # x: (epoch_size, input_length, num_nodes, input_dim)\n",
    "#     # y: (epoch_size, output_length, num_nodes, output_dim)\n",
    "#     \"\"\"\n",
    "\n",
    "#     num_samples, num_nodes = df.shape\n",
    "#     data = np.expand_dims(df.values, axis=-1)  # data transpose to row to column, reach row value becomes single array\n",
    "#     feature_list = [data]\n",
    "#     if add_time_in_day:\n",
    "#         time_ind = (df.index.values - df.index.values.astype(\"datetime64[D]\")) / np.timedelta64(1, \"D\")\n",
    "#         time_in_day = np.tile(time_ind, [1, num_nodes, 1]).transpose((2, 1, 0))\n",
    "#         feature_list.append(time_in_day)\n",
    "#     if add_day_in_week:\n",
    "#         dow = df.index.dayofweek\n",
    "#         dow_tiled = np.tile(dow, [1, num_nodes, 1]).transpose((2, 1, 0))\n",
    "#         feature_list.append(dow_tiled)\n",
    "\n",
    "#     data = np.concatenate(feature_list, axis=-1)\n",
    "#     x, y = [], []\n",
    "#     min_t = abs(min(x_offsets))\n",
    "#     max_t = abs(num_samples - abs(max(y_offsets)))  # Exclusive\n",
    "#     for t in range(min_t, max_t):  # t is the index of the last observation.\n",
    "#         x.append(data[t + x_offsets, ...])\n",
    "#         y.append(data[t + y_offsets, ...])\n",
    "#     x = np.stack(x, axis=0)\n",
    "#     y = np.stack(y, axis=0)\n",
    "#     return x, y\n"
   ]
  },
  {
   "cell_type": "code",
   "execution_count": 3,
   "metadata": {},
   "outputs": [],
   "source": [
    "# def generate_train_val_test(args):\n",
    "#     seq_length_x, seq_length_y = args.seq_length_x, args.seq_length_y\n",
    "#     df = pd.read_hdf(args.traffic_df_filename)\n",
    "#     # 0 is the latest observed sample.\n",
    "#     x_offsets = np.sort(np.concatenate((np.arange(-(seq_length_x - 1), 1, 1),)))  # random records to split the batches\n",
    "#     # Predict the next one hour\n",
    "#     y_offsets = np.sort(np.arange(args.y_start, (seq_length_y + 1), 1))\n",
    "#     # x: (num_samples, input_length, num_nodes, input_dim)\n",
    "#     # y: (num_samples, output_length, num_nodes, output_dim)\n",
    "#     x, y = generate_graph_seq2seq_io_data(\n",
    "#         df,\n",
    "#         x_offsets=x_offsets,\n",
    "#         y_offsets=y_offsets,\n",
    "#         add_time_in_day=True,\n",
    "#         add_day_in_week=args.dow,\n",
    "#     )\n",
    "\n",
    "#     print(\"x shape: \", x.shape, \", y shape: \", y.shape)\n",
    "#     # Write the data into npz file.\n",
    "#     num_samples = x.shape[0]\n",
    "#     num_test = round(num_samples * 0.2)\n",
    "#     num_train = round(num_samples * 0.7)\n",
    "#     num_val = num_samples - num_test - num_train\n",
    "#     x_train, y_train = x[:num_train], y[:num_train]\n",
    "#     x_val, y_val = (\n",
    "#         x[num_train: num_train + num_val],\n",
    "#         y[num_train: num_train + num_val],\n",
    "#     )\n",
    "#     x_test, y_test = x[-num_test:], y[-num_test:]\n",
    "\n",
    "#     for cat in [\"train\", \"val\", \"test\"]:\n",
    "#         _x, _y = locals()[\"x_\" + cat], locals()[\"y_\" + cat]\n",
    "#         print(cat, \"x: \", _x.shape, \"y:\", _y.shape)\n",
    "#         np.savez_compressed(\n",
    "#             os.path.join(args.output_dir, f\"{cat}.npz\"),\n",
    "#             x=_x,\n",
    "#             y=_y,\n",
    "#             x_offsets=x_offsets.reshape(list(x_offsets.shape) + [1]),\n",
    "#             y_offsets=y_offsets.reshape(list(y_offsets.shape) + [1]),\n",
    "#         )"
   ]
  },
  {
   "cell_type": "code",
   "execution_count": 4,
   "metadata": {},
   "outputs": [],
   "source": [
    "# args = parser.parse_args()\n",
    "# if os.path.exists(args.output_dir):\n",
    "#     reply = str(input(f'{args.output_dir} exists. Do you want to overwrite it? (y/n)')).lower().strip()\n",
    "#     if reply[0] != 'y': exit\n",
    "# else:\n",
    "#     os.makedirs(args.output_dir)\n",
    "# generate_train_val_test(args)\n"
   ]
  },
  {
   "cell_type": "code",
   "execution_count": 134,
   "metadata": {},
   "outputs": [],
   "source": [
    "seq_length_x =12\n",
    "seq_length_y = 12\n",
    "traffic_df_filename = PurePath('../data/metr-la.h5')\n",
    "df = pd.read_hdf(traffic_df_filename)\n",
    "# 0 is the latest observed sample.\n",
    "x_offsets = np.sort((np.arange(-(seq_length_x - 1), 1, 1)))  # random records to split the batches\n",
    "# Predict the next one hour\n",
    "y_start = 1\n",
    "y_offsets = np.sort(np.arange(y_start, (seq_length_y + 1), 1))"
   ]
  },
  {
   "cell_type": "code",
   "execution_count": 135,
   "metadata": {},
   "outputs": [
    {
     "data": {
      "text/plain": [
       "array([-11, -10,  -9,  -8,  -7,  -6,  -5,  -4,  -3,  -2,  -1,   0])"
      ]
     },
     "execution_count": 135,
     "metadata": {},
     "output_type": "execute_result"
    }
   ],
   "source": [
    "x_offsets"
   ]
  },
  {
   "cell_type": "code",
   "execution_count": 7,
   "metadata": {},
   "outputs": [
    {
     "data": {
      "text/plain": [
       "array([ 1,  2,  3,  4,  5,  6,  7,  8,  9, 10, 11, 12])"
      ]
     },
     "execution_count": 7,
     "metadata": {},
     "output_type": "execute_result"
    }
   ],
   "source": [
    "y_offsets"
   ]
  },
  {
   "cell_type": "code",
   "execution_count": 8,
   "metadata": {},
   "outputs": [
    {
     "name": "stdout",
     "output_type": "stream",
     "text": [
      "x_offsets:  (12,)\n",
      "y_offsets:  (12,)\n"
     ]
    }
   ],
   "source": [
    "print('x_offsets: ', x_offsets.shape)\n",
    "print('y_offsets: ', y_offsets.shape)"
   ]
  },
  {
   "cell_type": "code",
   "execution_count": 9,
   "metadata": {},
   "outputs": [],
   "source": [
    "add_time_in_day=True\n",
    "add_day_in_week=False"
   ]
  },
  {
   "cell_type": "code",
   "execution_count": 10,
   "metadata": {},
   "outputs": [
    {
     "name": "stdout",
     "output_type": "stream",
     "text": [
      "num_sample 34272\n",
      "num_nodes 207\n",
      "df-shape (34272, 207)\n"
     ]
    }
   ],
   "source": [
    "num_samples, num_nodes = df.shape\n",
    "print('num_sample', num_samples)\n",
    "print('num_nodes', num_nodes)\n",
    "print('df-shape', df.shape)"
   ]
  },
  {
   "cell_type": "code",
   "execution_count": 11,
   "metadata": {},
   "outputs": [
    {
     "name": "stdout",
     "output_type": "stream",
     "text": [
      "(34272, 207, 1)\n",
      "[[64.375]\n",
      " [67.625]\n",
      " [67.125]\n",
      " [61.5  ]\n",
      " [66.875]\n",
      " [68.75 ]\n",
      " [65.125]\n",
      " [67.125]\n",
      " [59.625]\n",
      " [62.75 ]]\n"
     ]
    }
   ],
   "source": [
    "data = np.expand_dims(df.values, axis=-1)  # data transpose to row to column, reach row value becomes single array\n",
    "print(data.shape)\n",
    "print(data[0][:10])"
   ]
  },
  {
   "cell_type": "code",
   "execution_count": 12,
   "metadata": {},
   "outputs": [
    {
     "name": "stdout",
     "output_type": "stream",
     "text": [
      "1\n"
     ]
    }
   ],
   "source": [
    "feature_list = [data]\n",
    "print(len(feature_list))"
   ]
  },
  {
   "cell_type": "code",
   "execution_count": 13,
   "metadata": {},
   "outputs": [
    {
     "name": "stdout",
     "output_type": "stream",
     "text": [
      "2\n"
     ]
    },
    {
     "data": {
      "text/html": [
       "<div>\n",
       "<style scoped>\n",
       "    .dataframe tbody tr th:only-of-type {\n",
       "        vertical-align: middle;\n",
       "    }\n",
       "\n",
       "    .dataframe tbody tr th {\n",
       "        vertical-align: top;\n",
       "    }\n",
       "\n",
       "    .dataframe thead th {\n",
       "        text-align: right;\n",
       "    }\n",
       "</style>\n",
       "<table border=\"1\" class=\"dataframe\">\n",
       "  <thead>\n",
       "    <tr style=\"text-align: right;\">\n",
       "      <th></th>\n",
       "      <th>0</th>\n",
       "      <th>1</th>\n",
       "      <th>2</th>\n",
       "      <th>3</th>\n",
       "      <th>4</th>\n",
       "      <th>5</th>\n",
       "      <th>6</th>\n",
       "      <th>7</th>\n",
       "      <th>8</th>\n",
       "      <th>9</th>\n",
       "      <th>...</th>\n",
       "      <th>197</th>\n",
       "      <th>198</th>\n",
       "      <th>199</th>\n",
       "      <th>200</th>\n",
       "      <th>201</th>\n",
       "      <th>202</th>\n",
       "      <th>203</th>\n",
       "      <th>204</th>\n",
       "      <th>205</th>\n",
       "      <th>206</th>\n",
       "    </tr>\n",
       "  </thead>\n",
       "  <tbody>\n",
       "    <tr>\n",
       "      <th>0</th>\n",
       "      <td>0.000000</td>\n",
       "      <td>0.000000</td>\n",
       "      <td>0.000000</td>\n",
       "      <td>0.000000</td>\n",
       "      <td>0.000000</td>\n",
       "      <td>0.000000</td>\n",
       "      <td>0.000000</td>\n",
       "      <td>0.000000</td>\n",
       "      <td>0.000000</td>\n",
       "      <td>0.000000</td>\n",
       "      <td>...</td>\n",
       "      <td>0.000000</td>\n",
       "      <td>0.000000</td>\n",
       "      <td>0.000000</td>\n",
       "      <td>0.000000</td>\n",
       "      <td>0.000000</td>\n",
       "      <td>0.000000</td>\n",
       "      <td>0.000000</td>\n",
       "      <td>0.000000</td>\n",
       "      <td>0.000000</td>\n",
       "      <td>0.000000</td>\n",
       "    </tr>\n",
       "    <tr>\n",
       "      <th>1</th>\n",
       "      <td>0.003472</td>\n",
       "      <td>0.003472</td>\n",
       "      <td>0.003472</td>\n",
       "      <td>0.003472</td>\n",
       "      <td>0.003472</td>\n",
       "      <td>0.003472</td>\n",
       "      <td>0.003472</td>\n",
       "      <td>0.003472</td>\n",
       "      <td>0.003472</td>\n",
       "      <td>0.003472</td>\n",
       "      <td>...</td>\n",
       "      <td>0.003472</td>\n",
       "      <td>0.003472</td>\n",
       "      <td>0.003472</td>\n",
       "      <td>0.003472</td>\n",
       "      <td>0.003472</td>\n",
       "      <td>0.003472</td>\n",
       "      <td>0.003472</td>\n",
       "      <td>0.003472</td>\n",
       "      <td>0.003472</td>\n",
       "      <td>0.003472</td>\n",
       "    </tr>\n",
       "    <tr>\n",
       "      <th>2</th>\n",
       "      <td>0.006944</td>\n",
       "      <td>0.006944</td>\n",
       "      <td>0.006944</td>\n",
       "      <td>0.006944</td>\n",
       "      <td>0.006944</td>\n",
       "      <td>0.006944</td>\n",
       "      <td>0.006944</td>\n",
       "      <td>0.006944</td>\n",
       "      <td>0.006944</td>\n",
       "      <td>0.006944</td>\n",
       "      <td>...</td>\n",
       "      <td>0.006944</td>\n",
       "      <td>0.006944</td>\n",
       "      <td>0.006944</td>\n",
       "      <td>0.006944</td>\n",
       "      <td>0.006944</td>\n",
       "      <td>0.006944</td>\n",
       "      <td>0.006944</td>\n",
       "      <td>0.006944</td>\n",
       "      <td>0.006944</td>\n",
       "      <td>0.006944</td>\n",
       "    </tr>\n",
       "    <tr>\n",
       "      <th>3</th>\n",
       "      <td>0.010417</td>\n",
       "      <td>0.010417</td>\n",
       "      <td>0.010417</td>\n",
       "      <td>0.010417</td>\n",
       "      <td>0.010417</td>\n",
       "      <td>0.010417</td>\n",
       "      <td>0.010417</td>\n",
       "      <td>0.010417</td>\n",
       "      <td>0.010417</td>\n",
       "      <td>0.010417</td>\n",
       "      <td>...</td>\n",
       "      <td>0.010417</td>\n",
       "      <td>0.010417</td>\n",
       "      <td>0.010417</td>\n",
       "      <td>0.010417</td>\n",
       "      <td>0.010417</td>\n",
       "      <td>0.010417</td>\n",
       "      <td>0.010417</td>\n",
       "      <td>0.010417</td>\n",
       "      <td>0.010417</td>\n",
       "      <td>0.010417</td>\n",
       "    </tr>\n",
       "    <tr>\n",
       "      <th>4</th>\n",
       "      <td>0.013889</td>\n",
       "      <td>0.013889</td>\n",
       "      <td>0.013889</td>\n",
       "      <td>0.013889</td>\n",
       "      <td>0.013889</td>\n",
       "      <td>0.013889</td>\n",
       "      <td>0.013889</td>\n",
       "      <td>0.013889</td>\n",
       "      <td>0.013889</td>\n",
       "      <td>0.013889</td>\n",
       "      <td>...</td>\n",
       "      <td>0.013889</td>\n",
       "      <td>0.013889</td>\n",
       "      <td>0.013889</td>\n",
       "      <td>0.013889</td>\n",
       "      <td>0.013889</td>\n",
       "      <td>0.013889</td>\n",
       "      <td>0.013889</td>\n",
       "      <td>0.013889</td>\n",
       "      <td>0.013889</td>\n",
       "      <td>0.013889</td>\n",
       "    </tr>\n",
       "  </tbody>\n",
       "</table>\n",
       "<p>5 rows × 207 columns</p>\n",
       "</div>"
      ],
      "text/plain": [
       "        0         1         2         3         4         5         6    \\\n",
       "0  0.000000  0.000000  0.000000  0.000000  0.000000  0.000000  0.000000   \n",
       "1  0.003472  0.003472  0.003472  0.003472  0.003472  0.003472  0.003472   \n",
       "2  0.006944  0.006944  0.006944  0.006944  0.006944  0.006944  0.006944   \n",
       "3  0.010417  0.010417  0.010417  0.010417  0.010417  0.010417  0.010417   \n",
       "4  0.013889  0.013889  0.013889  0.013889  0.013889  0.013889  0.013889   \n",
       "\n",
       "        7         8         9    ...       197       198       199       200  \\\n",
       "0  0.000000  0.000000  0.000000  ...  0.000000  0.000000  0.000000  0.000000   \n",
       "1  0.003472  0.003472  0.003472  ...  0.003472  0.003472  0.003472  0.003472   \n",
       "2  0.006944  0.006944  0.006944  ...  0.006944  0.006944  0.006944  0.006944   \n",
       "3  0.010417  0.010417  0.010417  ...  0.010417  0.010417  0.010417  0.010417   \n",
       "4  0.013889  0.013889  0.013889  ...  0.013889  0.013889  0.013889  0.013889   \n",
       "\n",
       "        201       202       203       204       205       206  \n",
       "0  0.000000  0.000000  0.000000  0.000000  0.000000  0.000000  \n",
       "1  0.003472  0.003472  0.003472  0.003472  0.003472  0.003472  \n",
       "2  0.006944  0.006944  0.006944  0.006944  0.006944  0.006944  \n",
       "3  0.010417  0.010417  0.010417  0.010417  0.010417  0.010417  \n",
       "4  0.013889  0.013889  0.013889  0.013889  0.013889  0.013889  \n",
       "\n",
       "[5 rows x 207 columns]"
      ]
     },
     "execution_count": 13,
     "metadata": {},
     "output_type": "execute_result"
    }
   ],
   "source": [
    "if add_time_in_day:\n",
    "  \n",
    "  # convert/normalize time into readable values by model (daytime(24 + t) - day(24) = time(t))--> t/24\n",
    "  time_ind = (df.index.values - df.index.values.astype(\"datetime64[D]\")) / np.timedelta64(1, \"D\")\n",
    "  \n",
    "  # creat matrix of date that is similar to the speed matrix as 2nd feature\n",
    "  time_in_day = np.tile(time_ind, [1, num_nodes, 1]).transpose((2, 1, 0))\n",
    "  # append speed matrix and time matrix\n",
    "  feature_list.append(time_in_day)\n",
    "  print(len(feature_list))\n",
    "tempdf = pd.DataFrame(time_in_day.reshape(34272, 207))\n",
    "tempdf.head()\n"
   ]
  },
  {
   "cell_type": "code",
   "execution_count": 15,
   "metadata": {},
   "outputs": [
    {
     "name": "stdout",
     "output_type": "stream",
     "text": [
      "(34272, 207, 1)\n",
      "(34272, 207, 1)\n"
     ]
    }
   ],
   "source": [
    "print(feature_list[0].shape)\n",
    "print(feature_list[1].shape)"
   ]
  },
  {
   "cell_type": "code",
   "execution_count": 14,
   "metadata": {},
   "outputs": [
    {
     "name": "stdout",
     "output_type": "stream",
     "text": [
      "['2012-03-01T00:00:00.000000000' '2012-03-01T00:05:00.000000000'\n",
      " '2012-03-01T00:10:00.000000000' '2012-03-01T00:15:00.000000000'\n",
      " '2012-03-01T00:20:00.000000000']\n",
      "2012-03-01\n",
      "[            0  300000000000  600000000000  900000000000 1200000000000]\n"
     ]
    }
   ],
   "source": [
    "temp_time_ind = (df.index.values[:5] - df.index.values.astype(\"datetime64[D]\")[:5])  / np.timedelta64(1, \"D\")\n",
    "temp_time_ind\n",
    "print(df.index.values[:5])\n",
    "print(df.index.values.astype(\"datetime64[D]\")[1])\n",
    "print(df.index.values[:5] - df.index.values.astype(\"datetime64[D]\")[:5])"
   ]
  },
  {
   "cell_type": "code",
   "execution_count": 60,
   "metadata": {},
   "outputs": [
    {
     "name": "stdout",
     "output_type": "stream",
     "text": [
      "(1, 5, 5)\n",
      "[[[0.         0.00347222 0.00694444 0.01041667 0.01388889]\n",
      "  [0.         0.00347222 0.00694444 0.01041667 0.01388889]\n",
      "  [0.         0.00347222 0.00694444 0.01041667 0.01388889]\n",
      "  [0.         0.00347222 0.00694444 0.01041667 0.01388889]\n",
      "  [0.         0.00347222 0.00694444 0.01041667 0.01388889]]]\n",
      "(5, 5, 1)\n",
      "[[[0.        ]\n",
      "  [0.        ]\n",
      "  [0.        ]\n",
      "  [0.        ]\n",
      "  [0.        ]]\n",
      "\n",
      " [[0.00347222]\n",
      "  [0.00347222]\n",
      "  [0.00347222]\n",
      "  [0.00347222]\n",
      "  [0.00347222]]\n",
      "\n",
      " [[0.00694444]\n",
      "  [0.00694444]\n",
      "  [0.00694444]\n",
      "  [0.00694444]\n",
      "  [0.00694444]]\n",
      "\n",
      " [[0.01041667]\n",
      "  [0.01041667]\n",
      "  [0.01041667]\n",
      "  [0.01041667]\n",
      "  [0.01041667]]\n",
      "\n",
      " [[0.01388889]\n",
      "  [0.01388889]\n",
      "  [0.01388889]\n",
      "  [0.01388889]\n",
      "  [0.01388889]]]\n"
     ]
    }
   ],
   "source": [
    "tempt_time_in_day = np.tile(temp_time_ind, [1, 5, 1])#.transpose((2, 1, 0))\n",
    "print(tempt_time_in_day.shape)\n",
    "print(tempt_time_in_day)\n",
    "# (rows, nodes/columns, z_indez)\n",
    "print(tempt_time_in_day.transpose((2, 1, 0)).shape)\n",
    "print(tempt_time_in_day.transpose((2, 1, 0)))"
   ]
  },
  {
   "cell_type": "code",
   "execution_count": null,
   "metadata": {},
   "outputs": [],
   "source": [
    "if add_day_in_week:\n",
    "  # series with day of the week Mon=0,..., Sun=6\n",
    "  dow = df.index.dayofweek\n",
    "  dow_tiled = np.tile(dow, [1, num_nodes, 1]).transpose((2, 1, 0))\n",
    "  feature_list.append(dow_tiled)"
   ]
  },
  {
   "cell_type": "code",
   "execution_count": 29,
   "metadata": {},
   "outputs": [],
   "source": [
    "data = np.concatenate(feature_list, axis=-1)\n"
   ]
  },
  {
   "cell_type": "code",
   "execution_count": 20,
   "metadata": {},
   "outputs": [
    {
     "name": "stdout",
     "output_type": "stream",
     "text": [
      "(34272, 207, 2)\n",
      "[[6.26666667e+01 3.47222222e-03]\n",
      " [6.85555556e+01 3.47222222e-03]\n",
      " [6.54444444e+01 3.47222222e-03]\n",
      " [6.24444444e+01 3.47222222e-03]\n",
      " [6.44444444e+01 3.47222222e-03]\n",
      " [6.81111111e+01 3.47222222e-03]\n",
      " [6.50000000e+01 3.47222222e-03]\n",
      " [6.50000000e+01 3.47222222e-03]\n",
      " [5.74444444e+01 3.47222222e-03]\n",
      " [6.33333333e+01 3.47222222e-03]\n",
      " [5.87777778e+01 3.47222222e-03]\n",
      " [5.84444444e+01 3.47222222e-03]\n",
      " [6.64444444e+01 3.47222222e-03]\n",
      " [6.54444444e+01 3.47222222e-03]\n",
      " [5.61111111e+01 3.47222222e-03]\n",
      " [6.54444444e+01 3.47222222e-03]\n",
      " [3.90000000e+01 3.47222222e-03]\n",
      " [6.37777778e+01 3.47222222e-03]\n",
      " [6.31111111e+01 3.47222222e-03]\n",
      " [6.61111111e+01 3.47222222e-03]\n",
      " [6.57777778e+01 3.47222222e-03]\n",
      " [5.67777778e+01 3.47222222e-03]\n",
      " [5.07777778e+01 3.47222222e-03]\n",
      " [5.62222222e+01 3.47222222e-03]\n",
      " [6.68888889e+01 3.47222222e-03]\n",
      " [5.44444444e+01 3.47222222e-03]\n",
      " [6.78888889e+01 3.47222222e-03]\n",
      " [6.15555556e+01 3.47222222e-03]\n",
      " [6.75555556e+01 3.47222222e-03]\n",
      " [4.67777778e+01 3.47222222e-03]\n",
      " [6.77777778e+01 3.47222222e-03]\n",
      " [6.78888889e+01 3.47222222e-03]\n",
      " [6.80000000e+01 3.47222222e-03]\n",
      " [6.74444444e+01 3.47222222e-03]\n",
      " [6.64444444e+01 3.47222222e-03]\n",
      " [6.72222222e+01 3.47222222e-03]\n",
      " [6.30000000e+01 3.47222222e-03]\n",
      " [6.43333333e+01 3.47222222e-03]\n",
      " [6.40000000e+01 3.47222222e-03]\n",
      " [6.18888889e+01 3.47222222e-03]\n",
      " [6.67777778e+01 3.47222222e-03]\n",
      " [6.45555556e+01 3.47222222e-03]\n",
      " [6.44444444e+01 3.47222222e-03]\n",
      " [6.43333333e+01 3.47222222e-03]\n",
      " [6.64444444e+01 3.47222222e-03]\n",
      " [6.41111111e+01 3.47222222e-03]\n",
      " [5.88888889e+01 3.47222222e-03]\n",
      " [6.52222222e+01 3.47222222e-03]\n",
      " [6.03333333e+01 3.47222222e-03]\n",
      " [6.31111111e+01 3.47222222e-03]\n",
      " [5.23333333e+01 3.47222222e-03]\n",
      " [5.21111111e+01 3.47222222e-03]\n",
      " [6.80000000e+01 3.47222222e-03]\n",
      " [5.60000000e+01 3.47222222e-03]\n",
      " [6.08888889e+01 3.47222222e-03]\n",
      " [6.02222222e+01 3.47222222e-03]\n",
      " [4.44444444e+01 3.47222222e-03]\n",
      " [6.12222222e+01 3.47222222e-03]\n",
      " [6.23333333e+01 3.47222222e-03]\n",
      " [5.77777778e+01 3.47222222e-03]\n",
      " [6.21111111e+01 3.47222222e-03]\n",
      " [6.94444444e+01 3.47222222e-03]\n",
      " [3.46666667e+01 3.47222222e-03]\n",
      " [6.57777778e+01 3.47222222e-03]\n",
      " [6.71111111e+01 3.47222222e-03]\n",
      " [6.75555556e+01 3.47222222e-03]\n",
      " [5.78888889e+01 3.47222222e-03]\n",
      " [6.67777778e+01 3.47222222e-03]\n",
      " [6.55555556e+01 3.47222222e-03]\n",
      " [6.82222222e+01 3.47222222e-03]\n",
      " [6.33333333e+01 3.47222222e-03]\n",
      " [6.23333333e+01 3.47222222e-03]\n",
      " [6.77777778e+01 3.47222222e-03]\n",
      " [6.18888889e+01 3.47222222e-03]\n",
      " [6.77777778e+01 3.47222222e-03]\n",
      " [5.46666667e+01 3.47222222e-03]\n",
      " [4.61111111e+01 3.47222222e-03]\n",
      " [6.13333333e+01 3.47222222e-03]\n",
      " [6.81111111e+01 3.47222222e-03]\n",
      " [6.48888889e+01 3.47222222e-03]\n",
      " [6.67777778e+01 3.47222222e-03]\n",
      " [6.47777778e+01 3.47222222e-03]\n",
      " [6.60000000e+01 3.47222222e-03]\n",
      " [6.40000000e+01 3.47222222e-03]\n",
      " [5.97777778e+01 3.47222222e-03]\n",
      " [6.53333333e+01 3.47222222e-03]\n",
      " [6.68888889e+01 3.47222222e-03]\n",
      " [6.52222222e+01 3.47222222e-03]\n",
      " [6.17777778e+01 3.47222222e-03]\n",
      " [6.64444444e+01 3.47222222e-03]\n",
      " [6.58888889e+01 3.47222222e-03]\n",
      " [5.67777778e+01 3.47222222e-03]\n",
      " [6.94444444e+01 3.47222222e-03]\n",
      " [6.70000000e+01 3.47222222e-03]\n",
      " [6.57777778e+01 3.47222222e-03]\n",
      " [5.74444444e+01 3.47222222e-03]\n",
      " [6.95555556e+01 3.47222222e-03]\n",
      " [6.91111111e+01 3.47222222e-03]\n",
      " [5.95555556e+01 3.47222222e-03]\n",
      " [6.73333333e+01 3.47222222e-03]\n",
      " [6.31111111e+01 3.47222222e-03]\n",
      " [6.27777778e+01 3.47222222e-03]\n",
      " [6.34444444e+01 3.47222222e-03]\n",
      " [6.42222222e+01 3.47222222e-03]\n",
      " [6.53333333e+01 3.47222222e-03]\n",
      " [0.00000000e+00 3.47222222e-03]\n",
      " [0.00000000e+00 3.47222222e-03]\n",
      " [6.73333333e+01 3.47222222e-03]\n",
      " [5.78888889e+01 3.47222222e-03]\n",
      " [6.05555556e+01 3.47222222e-03]\n",
      " [6.35555556e+01 3.47222222e-03]\n",
      " [6.81111111e+01 3.47222222e-03]\n",
      " [5.77777778e+01 3.47222222e-03]\n",
      " [6.77777778e+01 3.47222222e-03]\n",
      " [6.50000000e+01 3.47222222e-03]\n",
      " [6.27777778e+01 3.47222222e-03]\n",
      " [6.84444444e+01 3.47222222e-03]\n",
      " [6.95555556e+01 3.47222222e-03]\n",
      " [6.25555556e+01 3.47222222e-03]\n",
      " [6.63333333e+01 3.47222222e-03]\n",
      " [5.81111111e+01 3.47222222e-03]\n",
      " [5.46666667e+01 3.47222222e-03]\n",
      " [6.76666667e+01 3.47222222e-03]\n",
      " [6.84444444e+01 3.47222222e-03]\n",
      " [6.20000000e+01 3.47222222e-03]\n",
      " [5.52222222e+01 3.47222222e-03]\n",
      " [6.72222222e+01 3.47222222e-03]\n",
      " [6.71111111e+01 3.47222222e-03]\n",
      " [6.87777778e+01 3.47222222e-03]\n",
      " [6.30000000e+01 3.47222222e-03]\n",
      " [6.13333333e+01 3.47222222e-03]\n",
      " [6.46666667e+01 3.47222222e-03]\n",
      " [5.55555556e+01 3.47222222e-03]\n",
      " [6.33333333e+01 3.47222222e-03]\n",
      " [6.23333333e+01 3.47222222e-03]\n",
      " [6.88888889e+01 3.47222222e-03]\n",
      " [6.72222222e+01 3.47222222e-03]\n",
      " [6.35555556e+01 3.47222222e-03]\n",
      " [6.82222222e+01 3.47222222e-03]\n",
      " [6.15555556e+01 3.47222222e-03]\n",
      " [6.90000000e+01 3.47222222e-03]\n",
      " [6.74444444e+01 3.47222222e-03]\n",
      " [6.13333333e+01 3.47222222e-03]\n",
      " [6.28888889e+01 3.47222222e-03]\n",
      " [6.11111111e+01 3.47222222e-03]\n",
      " [6.42222222e+01 3.47222222e-03]\n",
      " [6.81111111e+01 3.47222222e-03]\n",
      " [6.45555556e+01 3.47222222e-03]\n",
      " [6.77777778e+01 3.47222222e-03]\n",
      " [6.77500000e+01 3.47222222e-03]\n",
      " [5.84444444e+01 3.47222222e-03]\n",
      " [4.90000000e+01 3.47222222e-03]\n",
      " [5.86666667e+01 3.47222222e-03]\n",
      " [5.85555556e+01 3.47222222e-03]\n",
      " [6.51250000e+01 3.47222222e-03]\n",
      " [6.45000000e+01 3.47222222e-03]\n",
      " [5.25555556e+01 3.47222222e-03]\n",
      " [6.88888889e+01 3.47222222e-03]\n",
      " [6.34444444e+01 3.47222222e-03]\n",
      " [6.52222222e+01 3.47222222e-03]\n",
      " [6.57777778e+01 3.47222222e-03]\n",
      " [6.92222222e+01 3.47222222e-03]\n",
      " [6.92222222e+01 3.47222222e-03]\n",
      " [6.93333333e+01 3.47222222e-03]\n",
      " [6.80000000e+01 3.47222222e-03]\n",
      " [5.00000000e+01 3.47222222e-03]\n",
      " [6.91111111e+01 3.47222222e-03]\n",
      " [6.67777778e+01 3.47222222e-03]\n",
      " [6.65555556e+01 3.47222222e-03]\n",
      " [6.73333333e+01 3.47222222e-03]\n",
      " [5.53333333e+01 3.47222222e-03]\n",
      " [6.65555556e+01 3.47222222e-03]\n",
      " [6.65555556e+01 3.47222222e-03]\n",
      " [6.57777778e+01 3.47222222e-03]\n",
      " [5.98888889e+01 3.47222222e-03]\n",
      " [6.68888889e+01 3.47222222e-03]\n",
      " [6.74444444e+01 3.47222222e-03]\n",
      " [6.22222222e+01 3.47222222e-03]\n",
      " [6.22222222e+01 3.47222222e-03]\n",
      " [5.23333333e+01 3.47222222e-03]\n",
      " [4.76666667e+01 3.47222222e-03]\n",
      " [6.71111111e+01 3.47222222e-03]\n",
      " [6.45000000e+01 3.47222222e-03]\n",
      " [6.91111111e+01 3.47222222e-03]\n",
      " [6.38888889e+01 3.47222222e-03]\n",
      " [6.04444444e+01 3.47222222e-03]\n",
      " [6.57777778e+01 3.47222222e-03]\n",
      " [6.38888889e+01 3.47222222e-03]\n",
      " [6.93333333e+01 3.47222222e-03]\n",
      " [6.30000000e+01 3.47222222e-03]\n",
      " [6.76666667e+01 3.47222222e-03]\n",
      " [6.73333333e+01 3.47222222e-03]\n",
      " [6.66666667e+01 3.47222222e-03]\n",
      " [6.57777778e+01 3.47222222e-03]\n",
      " [5.16666667e+01 3.47222222e-03]\n",
      " [6.91111111e+01 3.47222222e-03]\n",
      " [3.98888889e+01 3.47222222e-03]\n",
      " [5.06666667e+01 3.47222222e-03]\n",
      " [6.98750000e+01 3.47222222e-03]\n",
      " [6.66666667e+01 3.47222222e-03]\n",
      " [5.85555556e+01 3.47222222e-03]\n",
      " [6.20000000e+01 3.47222222e-03]\n",
      " [6.11111111e+01 3.47222222e-03]\n",
      " [6.44444444e+01 3.47222222e-03]\n",
      " [5.58888889e+01 3.47222222e-03]\n",
      " [6.84444444e+01 3.47222222e-03]\n",
      " [6.28750000e+01 3.47222222e-03]]\n"
     ]
    }
   ],
   "source": [
    "print(data.shape)\n",
    "print(data[1])"
   ]
  },
  {
   "cell_type": "code",
   "execution_count": 21,
   "metadata": {},
   "outputs": [
    {
     "name": "stdout",
     "output_type": "stream",
     "text": [
      "min_t 11\n",
      "max_t 34260\n"
     ]
    }
   ],
   "source": [
    "min_t = abs(min(x_offsets))\n",
    "max_t = abs(num_samples - abs(max(y_offsets)))  # Exclusive\n",
    "print('min_t', min_t)\n",
    "print('max_t', max_t)"
   ]
  },
  {
   "cell_type": "code",
   "execution_count": 64,
   "metadata": {},
   "outputs": [],
   "source": [
    "x, y = [], []\n",
    "for t in range(min_t, max_t):  # t is the index of the last observation.\n",
    "  x.append(data[t + x_offsets, ...])\n",
    "  y.append(data[t + y_offsets, ...])\n",
    "x = np.stack(x, axis=0)\n",
    "y = np.stack(y, axis=0)"
   ]
  },
  {
   "cell_type": "code",
   "execution_count": 79,
   "metadata": {},
   "outputs": [
    {
     "name": "stdout",
     "output_type": "stream",
     "text": [
      "(100,)\n"
     ]
    }
   ],
   "source": [
    "temp_x, temp_y = [], []\n",
    "temp_data = np.arange(0, 100, 1)\n",
    "temp_x_offsets = np.array([ -1, 0])\n",
    "temp_y_offsets = np.array([1, 2])\n",
    "print(temp_data.shape)\n",
    "for t in range(2, 98):  # t is the index of the last observation.\n",
    "  temp_x.append(temp_data[t + temp_x_offsets, ...])\n",
    "  temp_y.append(temp_data[t + temp_y_offsets, ...])"
   ]
  },
  {
   "cell_type": "code",
   "execution_count": 82,
   "metadata": {},
   "outputs": [
    {
     "name": "stdout",
     "output_type": "stream",
     "text": [
      "[array([1, 2]), array([2, 3]), array([3, 4]), array([4, 5]), array([5, 6]), array([6, 7]), array([7, 8]), array([8, 9]), array([ 9, 10]), array([10, 11]), array([11, 12]), array([12, 13]), array([13, 14]), array([14, 15]), array([15, 16]), array([16, 17]), array([17, 18]), array([18, 19]), array([19, 20]), array([20, 21]), array([21, 22]), array([22, 23]), array([23, 24]), array([24, 25]), array([25, 26]), array([26, 27]), array([27, 28]), array([28, 29]), array([29, 30]), array([30, 31]), array([31, 32]), array([32, 33]), array([33, 34]), array([34, 35]), array([35, 36]), array([36, 37]), array([37, 38]), array([38, 39]), array([39, 40]), array([40, 41]), array([41, 42]), array([42, 43]), array([43, 44]), array([44, 45]), array([45, 46]), array([46, 47]), array([47, 48]), array([48, 49]), array([49, 50]), array([50, 51]), array([51, 52]), array([52, 53]), array([53, 54]), array([54, 55]), array([55, 56]), array([56, 57]), array([57, 58]), array([58, 59]), array([59, 60]), array([60, 61]), array([61, 62]), array([62, 63]), array([63, 64]), array([64, 65]), array([65, 66]), array([66, 67]), array([67, 68]), array([68, 69]), array([69, 70]), array([70, 71]), array([71, 72]), array([72, 73]), array([73, 74]), array([74, 75]), array([75, 76]), array([76, 77]), array([77, 78]), array([78, 79]), array([79, 80]), array([80, 81]), array([81, 82]), array([82, 83]), array([83, 84]), array([84, 85]), array([85, 86]), array([86, 87]), array([87, 88]), array([88, 89]), array([89, 90]), array([90, 91]), array([91, 92]), array([92, 93]), array([93, 94]), array([94, 95]), array([95, 96]), array([96, 97])]\n",
      "------\n",
      "[array([3, 4]), array([4, 5]), array([5, 6]), array([6, 7]), array([7, 8]), array([8, 9]), array([ 9, 10]), array([10, 11]), array([11, 12]), array([12, 13]), array([13, 14]), array([14, 15]), array([15, 16]), array([16, 17]), array([17, 18]), array([18, 19]), array([19, 20]), array([20, 21]), array([21, 22]), array([22, 23]), array([23, 24]), array([24, 25]), array([25, 26]), array([26, 27]), array([27, 28]), array([28, 29]), array([29, 30]), array([30, 31]), array([31, 32]), array([32, 33]), array([33, 34]), array([34, 35]), array([35, 36]), array([36, 37]), array([37, 38]), array([38, 39]), array([39, 40]), array([40, 41]), array([41, 42]), array([42, 43]), array([43, 44]), array([44, 45]), array([45, 46]), array([46, 47]), array([47, 48]), array([48, 49]), array([49, 50]), array([50, 51]), array([51, 52]), array([52, 53]), array([53, 54]), array([54, 55]), array([55, 56]), array([56, 57]), array([57, 58]), array([58, 59]), array([59, 60]), array([60, 61]), array([61, 62]), array([62, 63]), array([63, 64]), array([64, 65]), array([65, 66]), array([66, 67]), array([67, 68]), array([68, 69]), array([69, 70]), array([70, 71]), array([71, 72]), array([72, 73]), array([73, 74]), array([74, 75]), array([75, 76]), array([76, 77]), array([77, 78]), array([78, 79]), array([79, 80]), array([80, 81]), array([81, 82]), array([82, 83]), array([83, 84]), array([84, 85]), array([85, 86]), array([86, 87]), array([87, 88]), array([88, 89]), array([89, 90]), array([90, 91]), array([91, 92]), array([92, 93]), array([93, 94]), array([94, 95]), array([95, 96]), array([96, 97]), array([97, 98]), array([98, 99])]\n",
      "------\n"
     ]
    }
   ],
   "source": [
    "print(temp_x)\n",
    "print('------')\n",
    "print(temp_y)\n",
    "print('------')"
   ]
  },
  {
   "cell_type": "code",
   "execution_count": 83,
   "metadata": {},
   "outputs": [],
   "source": [
    "temp_x = np.stack(temp_x, axis=0)\n",
    "temp_y = np.stack(temp_y, axis=0)"
   ]
  },
  {
   "cell_type": "code",
   "execution_count": 87,
   "metadata": {},
   "outputs": [
    {
     "name": "stdout",
     "output_type": "stream",
     "text": [
      "[[ 1  2]\n",
      " [ 2  3]\n",
      " [ 3  4]\n",
      " [ 4  5]\n",
      " [ 5  6]\n",
      " [ 6  7]\n",
      " [ 7  8]\n",
      " [ 8  9]\n",
      " [ 9 10]\n",
      " [10 11]]\n",
      "------\n",
      "[[ 3  4]\n",
      " [ 4  5]\n",
      " [ 5  6]\n",
      " [ 6  7]\n",
      " [ 7  8]\n",
      " [ 8  9]\n",
      " [ 9 10]\n",
      " [10 11]\n",
      " [11 12]\n",
      " [12 13]]\n",
      "------\n"
     ]
    }
   ],
   "source": [
    "print(temp_x[:10], )\n",
    "print('------')\n",
    "print(temp_y[:10])\n",
    "print('------')"
   ]
  },
  {
   "cell_type": "code",
   "execution_count": 93,
   "metadata": {},
   "outputs": [
    {
     "name": "stdout",
     "output_type": "stream",
     "text": [
      "34249\n",
      "34249\n",
      "(12, 207, 2)\n"
     ]
    }
   ],
   "source": [
    "print(len(x))\n",
    "print(len(y))\n",
    "print(x[1].shape)"
   ]
  },
  {
   "cell_type": "code",
   "execution_count": 94,
   "metadata": {},
   "outputs": [
    {
     "name": "stdout",
     "output_type": "stream",
     "text": [
      "x shape:  (34249, 12, 207, 2) , y shape:  (34249, 12, 207, 2)\n"
     ]
    }
   ],
   "source": [
    "print(\"x shape: \", x.shape, \", y shape: \", y.shape)\n"
   ]
  },
  {
   "cell_type": "code",
   "execution_count": 95,
   "metadata": {},
   "outputs": [
    {
     "name": "stdout",
     "output_type": "stream",
     "text": [
      "34249\n",
      "6850\n",
      "23974\n",
      "3425\n"
     ]
    }
   ],
   "source": [
    "# Write the data into npz file.\n",
    "num_samples = x.shape[0]\n",
    "print(num_samples)\n",
    "num_test = round(num_samples * 0.2)\n",
    "print(num_test)\n",
    "num_train = round(num_samples * 0.7)\n",
    "print(num_train)\n",
    "num_val = num_samples - num_test - num_train\n",
    "print(num_val)"
   ]
  },
  {
   "cell_type": "code",
   "execution_count": 96,
   "metadata": {},
   "outputs": [],
   "source": [
    "x_train, y_train = x[:num_train], y[:num_train]\n",
    "x_val, y_val = (\n",
    "    x[num_train: num_train + num_val],\n",
    "    y[num_train: num_train + num_val],\n",
    ")\n",
    "x_test, y_test = x[-num_test:], y[-num_test:]"
   ]
  },
  {
   "cell_type": "code",
   "execution_count": 123,
   "metadata": {},
   "outputs": [],
   "source": [
    "# path = os.path.sys.path[0]+'/data_gen/'\n",
    "# for cat in [\"train\", \"val\", \"test\"]:\n",
    "#     _x, _y = locals()[\"x_\" + cat], locals()[\"y_\" + cat]\n",
    "#     print(cat, \"x: \", _x.shape, \"y:\", _y.shape)\n",
    "#     np.savez_compressed(\n",
    "#       path + f\"{cat}.npz\",\n",
    "#       x=_x,\n",
    "#       y=_y,\n",
    "#       x_offsets=x_offsets.reshape(list(x_offsets.shape) + [1]),\n",
    "#       y_offsets=y_offsets.reshape(list(y_offsets.shape) + [1]),\n",
    "#     )"
   ]
  },
  {
   "cell_type": "code",
   "execution_count": 124,
   "metadata": {},
   "outputs": [],
   "source": [
    "train_x = np.load(PurePath('../data/METR-LA/train.npz'))"
   ]
  },
  {
   "cell_type": "code",
   "execution_count": 130,
   "metadata": {},
   "outputs": [
    {
     "data": {
      "text/plain": [
       "(23974, 12, 207, 2)"
      ]
     },
     "execution_count": 130,
     "metadata": {},
     "output_type": "execute_result"
    }
   ],
   "source": [
    "train_x['x'].shape"
   ]
  },
  {
   "cell_type": "code",
   "execution_count": 141,
   "metadata": {},
   "outputs": [
    {
     "data": {
      "text/plain": [
       "26"
      ]
     },
     "execution_count": 141,
     "metadata": {},
     "output_type": "execute_result"
    }
   ],
   "source": [
    "(64 - (len(train_x['x']) % 64)) % 64"
   ]
  },
  {
   "cell_type": "code",
   "execution_count": 136,
   "metadata": {},
   "outputs": [
    {
     "data": {
      "text/plain": [
       "23974"
      ]
     },
     "execution_count": 136,
     "metadata": {},
     "output_type": "execute_result"
    }
   ],
   "source": [
    "len(train_x['y'])#.shape"
   ]
  },
  {
   "cell_type": "code",
   "execution_count": 132,
   "metadata": {},
   "outputs": [
    {
     "data": {
      "text/plain": [
       "array([[-11],\n",
       "       [-10],\n",
       "       [ -9],\n",
       "       [ -8],\n",
       "       [ -7],\n",
       "       [ -6],\n",
       "       [ -5],\n",
       "       [ -4],\n",
       "       [ -3],\n",
       "       [ -2],\n",
       "       [ -1],\n",
       "       [  0]])"
      ]
     },
     "execution_count": 132,
     "metadata": {},
     "output_type": "execute_result"
    }
   ],
   "source": [
    "train_x['x_offsets']"
   ]
  },
  {
   "cell_type": "code",
   "execution_count": 133,
   "metadata": {},
   "outputs": [
    {
     "data": {
      "text/plain": [
       "array([[ 1],\n",
       "       [ 2],\n",
       "       [ 3],\n",
       "       [ 4],\n",
       "       [ 5],\n",
       "       [ 6],\n",
       "       [ 7],\n",
       "       [ 8],\n",
       "       [ 9],\n",
       "       [10],\n",
       "       [11],\n",
       "       [12]])"
      ]
     },
     "execution_count": 133,
     "metadata": {},
     "output_type": "execute_result"
    }
   ],
   "source": [
    "train_x['y_offsets']"
   ]
  },
  {
   "cell_type": "code",
   "execution_count": 125,
   "metadata": {},
   "outputs": [],
   "source": [
    "df = pd.DataFrame(train_x)"
   ]
  },
  {
   "cell_type": "code",
   "execution_count": 126,
   "metadata": {},
   "outputs": [
    {
     "data": {
      "text/html": [
       "<div>\n",
       "<style scoped>\n",
       "    .dataframe tbody tr th:only-of-type {\n",
       "        vertical-align: middle;\n",
       "    }\n",
       "\n",
       "    .dataframe tbody tr th {\n",
       "        vertical-align: top;\n",
       "    }\n",
       "\n",
       "    .dataframe thead th {\n",
       "        text-align: right;\n",
       "    }\n",
       "</style>\n",
       "<table border=\"1\" class=\"dataframe\">\n",
       "  <thead>\n",
       "    <tr style=\"text-align: right;\">\n",
       "      <th></th>\n",
       "      <th>0</th>\n",
       "    </tr>\n",
       "  </thead>\n",
       "  <tbody>\n",
       "    <tr>\n",
       "      <th>0</th>\n",
       "      <td>x</td>\n",
       "    </tr>\n",
       "    <tr>\n",
       "      <th>1</th>\n",
       "      <td>y</td>\n",
       "    </tr>\n",
       "    <tr>\n",
       "      <th>2</th>\n",
       "      <td>x_offsets</td>\n",
       "    </tr>\n",
       "    <tr>\n",
       "      <th>3</th>\n",
       "      <td>y_offsets</td>\n",
       "    </tr>\n",
       "  </tbody>\n",
       "</table>\n",
       "</div>"
      ],
      "text/plain": [
       "           0\n",
       "0          x\n",
       "1          y\n",
       "2  x_offsets\n",
       "3  y_offsets"
      ]
     },
     "execution_count": 126,
     "metadata": {},
     "output_type": "execute_result"
    }
   ],
   "source": [
    "df.head()"
   ]
  }
 ],
 "metadata": {
  "kernelspec": {
   "display_name": "venv",
   "language": "python",
   "name": "python3"
  },
  "language_info": {
   "codemirror_mode": {
    "name": "ipython",
    "version": 3
   },
   "file_extension": ".py",
   "mimetype": "text/x-python",
   "name": "python",
   "nbconvert_exporter": "python",
   "pygments_lexer": "ipython3",
   "version": "3.6.7"
  },
  "orig_nbformat": 4
 },
 "nbformat": 4,
 "nbformat_minor": 2
}
