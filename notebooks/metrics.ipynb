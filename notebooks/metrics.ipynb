{
 "cells": [
  {
   "cell_type": "code",
   "execution_count": null,
   "metadata": {},
   "outputs": [],
   "source": [
    "import argparse\n",
    "import numpy as np\n",
    "import pandas as pd\n",
    "import matplotlib.pyplot as plt\n",
    "import seaborn as sns\n",
    "sns.set_theme()\n",
    "from pathlib import Path,PurePath\n",
    "import sys\n",
    "import os\n",
    "module_path = os.path.abspath(os.path.join('..'))\n",
    "if module_path not in sys.path:\n",
    "    sys.path.append(module_path)\n",
    "    \n",
    "import util\n",
    "from model import *\n",
    "\n",
    "\n",
    "# import log\n",
    "#\n",
    "# log = log.initialise_logging(\"info\")\n"
   ]
  },
  {
   "cell_type": "code",
   "execution_count": 3,
   "metadata": {},
   "outputs": [],
   "source": [
    "metrics_data = pd.read_csv(PurePath('../logs/baseline_v2/metrics.csv'))"
   ]
  },
  {
   "cell_type": "code",
   "execution_count": 6,
   "metadata": {},
   "outputs": [],
   "source": [
    "metrics_data = metrics_data.loc[:, ~metrics_data.columns.str.contains('^Unnamed')]"
   ]
  },
  {
   "cell_type": "code",
   "execution_count": 7,
   "metadata": {},
   "outputs": [
    {
     "data": {
      "text/html": [
       "<div>\n",
       "<style scoped>\n",
       "    .dataframe tbody tr th:only-of-type {\n",
       "        vertical-align: middle;\n",
       "    }\n",
       "\n",
       "    .dataframe tbody tr th {\n",
       "        vertical-align: top;\n",
       "    }\n",
       "\n",
       "    .dataframe thead th {\n",
       "        text-align: right;\n",
       "    }\n",
       "</style>\n",
       "<table border=\"1\" class=\"dataframe\">\n",
       "  <thead>\n",
       "    <tr style=\"text-align: right;\">\n",
       "      <th></th>\n",
       "      <th>train_loss</th>\n",
       "      <th>train_mape</th>\n",
       "      <th>train_rmse</th>\n",
       "      <th>valid_loss</th>\n",
       "      <th>valid_mape</th>\n",
       "      <th>valid_rmse</th>\n",
       "    </tr>\n",
       "  </thead>\n",
       "  <tbody>\n",
       "    <tr>\n",
       "      <th>0</th>\n",
       "      <td>3.778153</td>\n",
       "      <td>0.105068</td>\n",
       "      <td>7.296427</td>\n",
       "      <td>3.297338</td>\n",
       "      <td>0.093293</td>\n",
       "      <td>6.111860</td>\n",
       "    </tr>\n",
       "    <tr>\n",
       "      <th>1</th>\n",
       "      <td>3.473802</td>\n",
       "      <td>0.096730</td>\n",
       "      <td>6.862051</td>\n",
       "      <td>3.201996</td>\n",
       "      <td>0.088499</td>\n",
       "      <td>6.114145</td>\n",
       "    </tr>\n",
       "    <tr>\n",
       "      <th>2</th>\n",
       "      <td>3.372800</td>\n",
       "      <td>0.093397</td>\n",
       "      <td>6.650059</td>\n",
       "      <td>3.144700</td>\n",
       "      <td>0.095094</td>\n",
       "      <td>5.961074</td>\n",
       "    </tr>\n",
       "    <tr>\n",
       "      <th>3</th>\n",
       "      <td>3.303825</td>\n",
       "      <td>0.090946</td>\n",
       "      <td>6.497572</td>\n",
       "      <td>3.183408</td>\n",
       "      <td>0.095154</td>\n",
       "      <td>5.852317</td>\n",
       "    </tr>\n",
       "    <tr>\n",
       "      <th>4</th>\n",
       "      <td>3.224549</td>\n",
       "      <td>0.088400</td>\n",
       "      <td>6.361232</td>\n",
       "      <td>2.981907</td>\n",
       "      <td>0.084433</td>\n",
       "      <td>5.640250</td>\n",
       "    </tr>\n",
       "    <tr>\n",
       "      <th>...</th>\n",
       "      <td>...</td>\n",
       "      <td>...</td>\n",
       "      <td>...</td>\n",
       "      <td>...</td>\n",
       "      <td>...</td>\n",
       "      <td>...</td>\n",
       "    </tr>\n",
       "    <tr>\n",
       "      <th>89</th>\n",
       "      <td>2.691451</td>\n",
       "      <td>0.070946</td>\n",
       "      <td>5.348418</td>\n",
       "      <td>2.736461</td>\n",
       "      <td>0.074167</td>\n",
       "      <td>5.360603</td>\n",
       "    </tr>\n",
       "    <tr>\n",
       "      <th>90</th>\n",
       "      <td>2.689828</td>\n",
       "      <td>0.070868</td>\n",
       "      <td>5.345279</td>\n",
       "      <td>2.730491</td>\n",
       "      <td>0.074989</td>\n",
       "      <td>5.327404</td>\n",
       "    </tr>\n",
       "    <tr>\n",
       "      <th>91</th>\n",
       "      <td>2.690411</td>\n",
       "      <td>0.070902</td>\n",
       "      <td>5.345475</td>\n",
       "      <td>2.750091</td>\n",
       "      <td>0.076334</td>\n",
       "      <td>5.386766</td>\n",
       "    </tr>\n",
       "    <tr>\n",
       "      <th>92</th>\n",
       "      <td>2.687983</td>\n",
       "      <td>0.070831</td>\n",
       "      <td>5.340601</td>\n",
       "      <td>2.738545</td>\n",
       "      <td>0.075306</td>\n",
       "      <td>5.349483</td>\n",
       "    </tr>\n",
       "    <tr>\n",
       "      <th>93</th>\n",
       "      <td>2.688342</td>\n",
       "      <td>0.070843</td>\n",
       "      <td>5.340956</td>\n",
       "      <td>2.735877</td>\n",
       "      <td>0.074586</td>\n",
       "      <td>5.354942</td>\n",
       "    </tr>\n",
       "  </tbody>\n",
       "</table>\n",
       "<p>94 rows × 6 columns</p>\n",
       "</div>"
      ],
      "text/plain": [
       "    train_loss  train_mape  train_rmse  valid_loss  valid_mape  valid_rmse\n",
       "0     3.778153    0.105068    7.296427    3.297338    0.093293    6.111860\n",
       "1     3.473802    0.096730    6.862051    3.201996    0.088499    6.114145\n",
       "2     3.372800    0.093397    6.650059    3.144700    0.095094    5.961074\n",
       "3     3.303825    0.090946    6.497572    3.183408    0.095154    5.852317\n",
       "4     3.224549    0.088400    6.361232    2.981907    0.084433    5.640250\n",
       "..         ...         ...         ...         ...         ...         ...\n",
       "89    2.691451    0.070946    5.348418    2.736461    0.074167    5.360603\n",
       "90    2.689828    0.070868    5.345279    2.730491    0.074989    5.327404\n",
       "91    2.690411    0.070902    5.345475    2.750091    0.076334    5.386766\n",
       "92    2.687983    0.070831    5.340601    2.738545    0.075306    5.349483\n",
       "93    2.688342    0.070843    5.340956    2.735877    0.074586    5.354942\n",
       "\n",
       "[94 rows x 6 columns]"
      ]
     },
     "execution_count": 7,
     "metadata": {},
     "output_type": "execute_result"
    }
   ],
   "source": [
    "metrics_data"
   ]
  },
  {
   "cell_type": "code",
   "execution_count": 8,
   "metadata": {},
   "outputs": [
    {
     "data": {
      "image/png": "[encoded data removed]",
      "text/plain": [
       "<Figure size 432x288 with 1 Axes>"
      ]
     },
     "metadata": {},
     "output_type": "display_data"
    }
   ],
   "source": [
    "plt.plot(metrics_data.train_loss)\n",
    "plt.show()"
   ]
  }
 ],
 "metadata": {
  "kernelspec": {
   "display_name": "venv",
   "language": "python",
   "name": "python3"
  },
  "language_info": {
   "codemirror_mode": {
    "name": "ipython",
    "version": 3
   },
   "file_extension": ".py",
   "mimetype": "text/x-python",
   "name": "python",
   "nbconvert_exporter": "python",
   "pygments_lexer": "ipython3",
   "version": "3.6.7"
  },
  "orig_nbformat": 4
 },
 "nbformat": 4,
 "nbformat_minor": 2
}
