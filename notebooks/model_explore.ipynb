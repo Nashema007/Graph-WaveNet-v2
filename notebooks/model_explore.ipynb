{
 "cells": [
  {
   "cell_type": "code",
   "execution_count": 1,
   "metadata": {},
   "outputs": [],
   "source": [
    "import torch\n",
    "import torch.nn as nn\n",
    "import torch.nn.functional as F\n",
    "import numpy as np\n",
    "import pandas as pd\n",
    "from pathlib import PurePath\n",
    "import os\n",
    "import sys\n",
    "import pickle\n",
    "import scipy.sparse as sp\n",
    "from scipy.sparse import linalg\n",
    "import matplotlib.pyplot as plt\n",
    "\n",
    "module_path = os.path.abspath(os.path.join('..'))\n",
    "if module_path not in sys.path:\n",
    "    sys.path.append(module_path)\n",
    "torch.manual_seed(99)\n",
    "np.random.seed(99)\n",
    "if torch.cuda.is_available():\n",
    "    device = torch.device('cpu')#'cuda:0')"
   ]
  },
  {
   "cell_type": "code",
   "execution_count": 5,
   "metadata": {},
   "outputs": [
    {
     "ename": "AttributeError",
     "evalue": "'collections.OrderedDict' object has no attribute 'seek'. You can only torch.load from a file that is seekable. Please pre-load the data into a buffer like io.BytesIO and try to load from it instead.",
     "output_type": "error",
     "traceback": [
      "\u001b[0;31m---------------------------------------------------------------------------\u001b[0m",
      "\u001b[0;31mAttributeError\u001b[0m                            Traceback (most recent call last)",
      "\u001b[0;32m~/Graph-WaveNet-v2/venv/lib/python3.6/site-packages/torch/serialization.py\u001b[0m in \u001b[0;36m_check_seekable\u001b[0;34m(f)\u001b[0m\n\u001b[1;32m    307\u001b[0m     \u001b[0;32mtry\u001b[0m\u001b[0;34m:\u001b[0m\u001b[0;34m\u001b[0m\u001b[0;34m\u001b[0m\u001b[0m\n\u001b[0;32m--> 308\u001b[0;31m         \u001b[0mf\u001b[0m\u001b[0;34m.\u001b[0m\u001b[0mseek\u001b[0m\u001b[0;34m(\u001b[0m\u001b[0mf\u001b[0m\u001b[0;34m.\u001b[0m\u001b[0mtell\u001b[0m\u001b[0;34m(\u001b[0m\u001b[0;34m)\u001b[0m\u001b[0;34m)\u001b[0m\u001b[0;34m\u001b[0m\u001b[0;34m\u001b[0m\u001b[0m\n\u001b[0m\u001b[1;32m    309\u001b[0m         \u001b[0;32mreturn\u001b[0m \u001b[0;32mTrue\u001b[0m\u001b[0;34m\u001b[0m\u001b[0;34m\u001b[0m\u001b[0m\n",
      "\u001b[0;31mAttributeError\u001b[0m: 'collections.OrderedDict' object has no attribute 'seek'",
      "\nDuring handling of the above exception, another exception occurred:\n",
      "\u001b[0;31mAttributeError\u001b[0m                            Traceback (most recent call last)",
      "\u001b[0;32m<ipython-input-5-07f2b78bfa8f>\u001b[0m in \u001b[0;36m<module>\u001b[0;34m\u001b[0m\n\u001b[0;32m----> 1\u001b[0;31m \u001b[0mtorch\u001b[0m\u001b[0;34m.\u001b[0m\u001b[0mload\u001b[0m\u001b[0;34m(\u001b[0m\u001b[0mtorch\u001b[0m\u001b[0;34m.\u001b[0m\u001b[0mload\u001b[0m\u001b[0;34m(\u001b[0m\u001b[0;34m'../logs/baseline_v2/fancy-pyramid-5/best_model.pth'\u001b[0m\u001b[0;34m)\u001b[0m\u001b[0;34m)\u001b[0m\u001b[0;34m\u001b[0m\u001b[0;34m\u001b[0m\u001b[0m\n\u001b[0m",
      "\u001b[0;32m~/Graph-WaveNet-v2/venv/lib/python3.6/site-packages/torch/serialization.py\u001b[0m in \u001b[0;36mload\u001b[0;34m(f, map_location, pickle_module, **pickle_load_args)\u001b[0m\n\u001b[1;32m    592\u001b[0m         \u001b[0mpickle_load_args\u001b[0m\u001b[0;34m[\u001b[0m\u001b[0;34m'encoding'\u001b[0m\u001b[0;34m]\u001b[0m \u001b[0;34m=\u001b[0m \u001b[0;34m'utf-8'\u001b[0m\u001b[0;34m\u001b[0m\u001b[0;34m\u001b[0m\u001b[0m\n\u001b[1;32m    593\u001b[0m \u001b[0;34m\u001b[0m\u001b[0m\n\u001b[0;32m--> 594\u001b[0;31m     \u001b[0;32mwith\u001b[0m \u001b[0m_open_file_like\u001b[0m\u001b[0;34m(\u001b[0m\u001b[0mf\u001b[0m\u001b[0;34m,\u001b[0m \u001b[0;34m'rb'\u001b[0m\u001b[0;34m)\u001b[0m \u001b[0;32mas\u001b[0m \u001b[0mopened_file\u001b[0m\u001b[0;34m:\u001b[0m\u001b[0;34m\u001b[0m\u001b[0;34m\u001b[0m\u001b[0m\n\u001b[0m\u001b[1;32m    595\u001b[0m         \u001b[0;32mif\u001b[0m \u001b[0m_is_zipfile\u001b[0m\u001b[0;34m(\u001b[0m\u001b[0mopened_file\u001b[0m\u001b[0;34m)\u001b[0m\u001b[0;34m:\u001b[0m\u001b[0;34m\u001b[0m\u001b[0;34m\u001b[0m\u001b[0m\n\u001b[1;32m    596\u001b[0m             \u001b[0;31m# The zipfile reader is going to advance the current file position.\u001b[0m\u001b[0;34m\u001b[0m\u001b[0;34m\u001b[0m\u001b[0;34m\u001b[0m\u001b[0m\n",
      "\u001b[0;32m~/Graph-WaveNet-v2/venv/lib/python3.6/site-packages/torch/serialization.py\u001b[0m in \u001b[0;36m_open_file_like\u001b[0;34m(name_or_buffer, mode)\u001b[0m\n\u001b[1;32m    233\u001b[0m             \u001b[0;32mreturn\u001b[0m \u001b[0m_open_buffer_writer\u001b[0m\u001b[0;34m(\u001b[0m\u001b[0mname_or_buffer\u001b[0m\u001b[0;34m)\u001b[0m\u001b[0;34m\u001b[0m\u001b[0;34m\u001b[0m\u001b[0m\n\u001b[1;32m    234\u001b[0m         \u001b[0;32melif\u001b[0m \u001b[0;34m'r'\u001b[0m \u001b[0;32min\u001b[0m \u001b[0mmode\u001b[0m\u001b[0;34m:\u001b[0m\u001b[0;34m\u001b[0m\u001b[0;34m\u001b[0m\u001b[0m\n\u001b[0;32m--> 235\u001b[0;31m             \u001b[0;32mreturn\u001b[0m \u001b[0m_open_buffer_reader\u001b[0m\u001b[0;34m(\u001b[0m\u001b[0mname_or_buffer\u001b[0m\u001b[0;34m)\u001b[0m\u001b[0;34m\u001b[0m\u001b[0;34m\u001b[0m\u001b[0m\n\u001b[0m\u001b[1;32m    236\u001b[0m         \u001b[0;32melse\u001b[0m\u001b[0;34m:\u001b[0m\u001b[0;34m\u001b[0m\u001b[0;34m\u001b[0m\u001b[0m\n\u001b[1;32m    237\u001b[0m             \u001b[0;32mraise\u001b[0m \u001b[0mRuntimeError\u001b[0m\u001b[0;34m(\u001b[0m\u001b[0;34mf\"Expected 'r' or 'w' in mode but got {mode}\"\u001b[0m\u001b[0;34m)\u001b[0m\u001b[0;34m\u001b[0m\u001b[0;34m\u001b[0m\u001b[0m\n",
      "\u001b[0;32m~/Graph-WaveNet-v2/venv/lib/python3.6/site-packages/torch/serialization.py\u001b[0m in \u001b[0;36m__init__\u001b[0;34m(self, buffer)\u001b[0m\n\u001b[1;32m    218\u001b[0m     \u001b[0;32mdef\u001b[0m \u001b[0m__init__\u001b[0m\u001b[0;34m(\u001b[0m\u001b[0mself\u001b[0m\u001b[0;34m,\u001b[0m \u001b[0mbuffer\u001b[0m\u001b[0;34m)\u001b[0m\u001b[0;34m:\u001b[0m\u001b[0;34m\u001b[0m\u001b[0;34m\u001b[0m\u001b[0m\n\u001b[1;32m    219\u001b[0m         \u001b[0msuper\u001b[0m\u001b[0;34m(\u001b[0m\u001b[0m_open_buffer_reader\u001b[0m\u001b[0;34m,\u001b[0m \u001b[0mself\u001b[0m\u001b[0;34m)\u001b[0m\u001b[0;34m.\u001b[0m\u001b[0m__init__\u001b[0m\u001b[0;34m(\u001b[0m\u001b[0mbuffer\u001b[0m\u001b[0;34m)\u001b[0m\u001b[0;34m\u001b[0m\u001b[0;34m\u001b[0m\u001b[0m\n\u001b[0;32m--> 220\u001b[0;31m         \u001b[0m_check_seekable\u001b[0m\u001b[0;34m(\u001b[0m\u001b[0mbuffer\u001b[0m\u001b[0;34m)\u001b[0m\u001b[0;34m\u001b[0m\u001b[0;34m\u001b[0m\u001b[0m\n\u001b[0m\u001b[1;32m    221\u001b[0m \u001b[0;34m\u001b[0m\u001b[0m\n\u001b[1;32m    222\u001b[0m \u001b[0;34m\u001b[0m\u001b[0m\n",
      "\u001b[0;32m~/Graph-WaveNet-v2/venv/lib/python3.6/site-packages/torch/serialization.py\u001b[0m in \u001b[0;36m_check_seekable\u001b[0;34m(f)\u001b[0m\n\u001b[1;32m    309\u001b[0m         \u001b[0;32mreturn\u001b[0m \u001b[0;32mTrue\u001b[0m\u001b[0;34m\u001b[0m\u001b[0;34m\u001b[0m\u001b[0m\n\u001b[1;32m    310\u001b[0m     \u001b[0;32mexcept\u001b[0m \u001b[0;34m(\u001b[0m\u001b[0mio\u001b[0m\u001b[0;34m.\u001b[0m\u001b[0mUnsupportedOperation\u001b[0m\u001b[0;34m,\u001b[0m \u001b[0mAttributeError\u001b[0m\u001b[0;34m)\u001b[0m \u001b[0;32mas\u001b[0m \u001b[0me\u001b[0m\u001b[0;34m:\u001b[0m\u001b[0;34m\u001b[0m\u001b[0;34m\u001b[0m\u001b[0m\n\u001b[0;32m--> 311\u001b[0;31m         \u001b[0mraise_err_msg\u001b[0m\u001b[0;34m(\u001b[0m\u001b[0;34m[\u001b[0m\u001b[0;34m\"seek\"\u001b[0m\u001b[0;34m,\u001b[0m \u001b[0;34m\"tell\"\u001b[0m\u001b[0;34m]\u001b[0m\u001b[0;34m,\u001b[0m \u001b[0me\u001b[0m\u001b[0;34m)\u001b[0m\u001b[0;34m\u001b[0m\u001b[0;34m\u001b[0m\u001b[0m\n\u001b[0m\u001b[1;32m    312\u001b[0m     \u001b[0;32mreturn\u001b[0m \u001b[0;32mFalse\u001b[0m\u001b[0;34m\u001b[0m\u001b[0;34m\u001b[0m\u001b[0m\n\u001b[1;32m    313\u001b[0m \u001b[0;34m\u001b[0m\u001b[0m\n",
      "\u001b[0;32m~/Graph-WaveNet-v2/venv/lib/python3.6/site-packages/torch/serialization.py\u001b[0m in \u001b[0;36mraise_err_msg\u001b[0;34m(patterns, e)\u001b[0m\n\u001b[1;32m    302\u001b[0m                                 \u001b[0;34m+\u001b[0m \u001b[0;34m\" Please pre-load the data into a buffer like io.BytesIO and\"\u001b[0m\u001b[0;34m\u001b[0m\u001b[0;34m\u001b[0m\u001b[0m\n\u001b[1;32m    303\u001b[0m                                 + \" try to load from it instead.\")\n\u001b[0;32m--> 304\u001b[0;31m                 \u001b[0;32mraise\u001b[0m \u001b[0mtype\u001b[0m\u001b[0;34m(\u001b[0m\u001b[0me\u001b[0m\u001b[0;34m)\u001b[0m\u001b[0;34m(\u001b[0m\u001b[0mmsg\u001b[0m\u001b[0;34m)\u001b[0m\u001b[0;34m\u001b[0m\u001b[0;34m\u001b[0m\u001b[0m\n\u001b[0m\u001b[1;32m    305\u001b[0m         \u001b[0;32mraise\u001b[0m \u001b[0me\u001b[0m\u001b[0;34m\u001b[0m\u001b[0;34m\u001b[0m\u001b[0m\n\u001b[1;32m    306\u001b[0m \u001b[0;34m\u001b[0m\u001b[0m\n",
      "\u001b[0;31mAttributeError\u001b[0m: 'collections.OrderedDict' object has no attribute 'seek'. You can only torch.load from a file that is seekable. Please pre-load the data into a buffer like io.BytesIO and try to load from it instead."
     ]
    }
   ],
   "source": [
    "torch.load(torch.load('../logs/baseline_v2/fancy-pyramid-5/best_model.pth'))"
   ]
  },
  {
   "cell_type": "code",
   "execution_count": 2,
   "metadata": {},
   "outputs": [],
   "source": [
    "class StandardScaler:\n",
    "    \"\"\"\n",
    "    Standard the input\n",
    "    \"\"\"\n",
    "\n",
    "    def __init__(self, mean, std):\n",
    "        self.mean = mean\n",
    "        self.std = std\n",
    "\n",
    "    def transform(self, data):\n",
    "        return (data - self.mean) / self.std\n",
    "\n",
    "    def inverse_transform(self, data):\n",
    "        return (data * self.std) + self.mean"
   ]
  },
  {
   "cell_type": "code",
   "execution_count": 3,
   "metadata": {},
   "outputs": [],
   "source": [
    "# class DataLoader(object):\n",
    "#     def __init__(self, xs, ys, batch_size, pad_with_last_sample=True):\n",
    "#         \"\"\"\n",
    "#         :param xs:\n",
    "#         :param ys:\n",
    "#         :param batch_size:\n",
    "#         :param pad_with_last_sample: pad with the last sample to make number of samples divisible to batch_size.\n",
    "#         \"\"\"\n",
    "#         self.batch_size = batch_size\n",
    "#         self.current_ind = 0\n",
    "#         if pad_with_last_sample:\n",
    "#             num_padding = (batch_size - (len(xs) % batch_size)) % batch_size\n",
    "#             x_padding = np.repeat(xs[-1:], num_padding, axis=0)\n",
    "#             y_padding = np.repeat(ys[-1:], num_padding, axis=0)\n",
    "#             xs = np.concatenate([xs, x_padding], axis=0)\n",
    "#             ys = np.concatenate([ys, y_padding], axis=0)\n",
    "#         self.size = len(xs)\n",
    "#         self.num_batch = int(self.size // self.batch_size)\n",
    "#         self.xs = xs\n",
    "#         self.ys = ys\n",
    "\n",
    "#     def shuffle(self):\n",
    "#         permutation = np.random.permutation(self.size)\n",
    "#         xs, ys = self.xs[permutation], self.ys[permutation]\n",
    "#         self.xs = xs\n",
    "#         self.ys = ys\n",
    "\n",
    "#     def get_iterator(self):\n",
    "#         self.current_ind = 0\n",
    "\n",
    "#         def _wrapper():\n",
    "#             while self.current_ind < self.num_batch:\n",
    "#                 start_ind = self.batch_size * self.current_ind\n",
    "#                 end_ind = min(self.size, self.batch_size * (self.current_ind + 1))\n",
    "#                 x_i = self.xs[start_ind: end_ind, ...]\n",
    "#                 y_i = self.ys[start_ind: end_ind, ...]\n",
    "#                 yield (x_i, y_i)\n",
    "#                 self.current_ind += 1\n",
    "\n",
    "#         return _wrapper()"
   ]
  },
  {
   "cell_type": "code",
   "execution_count": 4,
   "metadata": {},
   "outputs": [],
   "source": [
    "train_data = PurePath('../data/METR-LA/train.npz')\n",
    "train_data = np.load(train_data)\n",
    "xtrain = train_data['x']\n",
    "ytrain = train_data['y']\n",
    "x_offsets = train_data['x_offsets']\n",
    "y_offsets = train_data['y_offsets']"
   ]
  },
  {
   "cell_type": "code",
   "execution_count": 5,
   "metadata": {},
   "outputs": [
    {
     "name": "stdout",
     "output_type": "stream",
     "text": [
      "(23974, 12, 207, 2)\n"
     ]
    }
   ],
   "source": [
    "print(train_data['x'].shape)"
   ]
  },
  {
   "cell_type": "code",
   "execution_count": 6,
   "metadata": {},
   "outputs": [],
   "source": [
    "scaler = StandardScaler(mean=xtrain[..., 0].mean(), std=xtrain[..., 0].std())"
   ]
  },
  {
   "cell_type": "code",
   "execution_count": 7,
   "metadata": {},
   "outputs": [],
   "source": [
    "# xtrain = xtrain[:5,]\n",
    "# ytrain = ytrain[:5,]"
   ]
  },
  {
   "cell_type": "code",
   "execution_count": 8,
   "metadata": {},
   "outputs": [
    {
     "name": "stdout",
     "output_type": "stream",
     "text": [
      "xtrain: (23974, 12, 207, 2)\n",
      "ytrain: (23974, 12, 207, 2)\n"
     ]
    }
   ],
   "source": [
    "print('xtrain:', xtrain.shape)\n",
    "print('ytrain:', ytrain.shape)"
   ]
  },
  {
   "cell_type": "code",
   "execution_count": 9,
   "metadata": {},
   "outputs": [
    {
     "name": "stdout",
     "output_type": "stream",
     "text": [
      "23974\n"
     ]
    }
   ],
   "source": [
    "batch_size = 64\n",
    "pad_with_last_sample= True\n",
    "current_ind = 0\n",
    "size = len(xtrain)\n",
    "print(size)"
   ]
  },
  {
   "cell_type": "code",
   "execution_count": 10,
   "metadata": {},
   "outputs": [
    {
     "name": "stdout",
     "output_type": "stream",
     "text": [
      "26\n"
     ]
    }
   ],
   "source": [
    "num_padding = (batch_size - (len(xtrain) % batch_size)) % batch_size\n",
    "print(num_padding)"
   ]
  },
  {
   "cell_type": "code",
   "execution_count": 11,
   "metadata": {},
   "outputs": [
    {
     "name": "stdout",
     "output_type": "stream",
     "text": [
      "(1, 12, 207, 2)\n"
     ]
    }
   ],
   "source": [
    "print(xtrain[-1:].shape)"
   ]
  },
  {
   "cell_type": "code",
   "execution_count": 12,
   "metadata": {},
   "outputs": [
    {
     "name": "stdout",
     "output_type": "stream",
     "text": [
      "x_padding:  (26, 12, 207, 2)\n",
      "y_padding:  (26, 12, 207, 2)\n"
     ]
    }
   ],
   "source": [
    "x_padding = np.repeat(xtrain[-1:], num_padding, axis=0)\n",
    "y_padding = np.repeat(ytrain[-1:], num_padding, axis=0)\n",
    "print('x_padding: ', x_padding.shape)\n",
    "print('y_padding: ', y_padding.shape)"
   ]
  },
  {
   "cell_type": "code",
   "execution_count": 13,
   "metadata": {},
   "outputs": [],
   "source": [
    "xs = np.concatenate([xtrain, x_padding], axis=0)\n",
    "ys = np.concatenate([ytrain, y_padding], axis=0)"
   ]
  },
  {
   "cell_type": "code",
   "execution_count": 14,
   "metadata": {},
   "outputs": [
    {
     "name": "stdout",
     "output_type": "stream",
     "text": [
      "(24000, 12, 207, 2)\n"
     ]
    }
   ],
   "source": [
    "print(xs.shape)"
   ]
  },
  {
   "cell_type": "code",
   "execution_count": 15,
   "metadata": {},
   "outputs": [
    {
     "name": "stdout",
     "output_type": "stream",
     "text": [
      "374\n"
     ]
    }
   ],
   "source": [
    "num_batch = int(size // batch_size)\n",
    "print(num_batch)"
   ]
  },
  {
   "cell_type": "code",
   "execution_count": 16,
   "metadata": {},
   "outputs": [],
   "source": [
    "xtrain = xs\n",
    "ytrain = ys"
   ]
  },
  {
   "cell_type": "code",
   "execution_count": 17,
   "metadata": {},
   "outputs": [
    {
     "name": "stdout",
     "output_type": "stream",
     "text": [
      "xtrain: (24000, 12, 207, 2)\n",
      "ytrain: (24000, 12, 207, 2)\n"
     ]
    }
   ],
   "source": [
    "print('xtrain:', xtrain.shape)\n",
    "print('ytrain:', ytrain.shape)"
   ]
  },
  {
   "cell_type": "code",
   "execution_count": 18,
   "metadata": {},
   "outputs": [],
   "source": [
    "def load_pickle(pickle_file):\n",
    "    try:\n",
    "        with open(pickle_file, 'rb') as f:\n",
    "            pickle_data = pickle.load(f)\n",
    "    except UnicodeDecodeError as e:\n",
    "        with open(pickle_file, 'rb') as f:\n",
    "            pickle_data = pickle.load(f, encoding='latin1')\n",
    "    except Exception as e:\n",
    "        print('Unable to load data ', pickle_file, ':', e)\n",
    "        raise\n",
    "    return pickle_data"
   ]
  },
  {
   "cell_type": "code",
   "execution_count": 19,
   "metadata": {},
   "outputs": [],
   "source": [
    "def asym_adj(adj):\n",
    "    adj = sp.coo_matrix(adj)\n",
    "    rowsum = np.array(adj.sum(1)).flatten()\n",
    "    d_inv = np.power(rowsum, -1).flatten()\n",
    "    d_inv[np.isinf(d_inv)] = 0.\n",
    "    d_mat = sp.diags(d_inv)\n",
    "    return d_mat.dot(adj).astype(np.float32).todense()"
   ]
  },
  {
   "cell_type": "code",
   "execution_count": 20,
   "metadata": {},
   "outputs": [],
   "source": [
    "sensor_ids, sensor_id_to_ind, adj_mx = load_pickle(PurePath('../data/sensor_graph/adj_mx.pkl'))"
   ]
  },
  {
   "cell_type": "code",
   "execution_count": 21,
   "metadata": {},
   "outputs": [
    {
     "name": "stdout",
     "output_type": "stream",
     "text": [
      "207\n",
      "['773869', '767541', '767542', '717447', '717446', '717445', '773062', '767620', '737529', '717816', '765604', '767471', '716339', '773906', '765273', '716331', '771667', '716337', '769953', '769402', '769403', '769819', '769405', '716941', '717578', '716960', '717804', '767572', '767573', '773012', '773013', '764424', '769388', '716328', '717819', '769941', '760987', '718204', '718045', '769418', '768066', '772140', '773927', '760024', '774012', '774011', '767609', '769359', '760650', '716956', '769831', '761604', '717495', '716554', '773953', '767470', '716955', '764949', '773954', '767366', '769444', '773939', '774067', '769443', '767750', '767751', '767610', '773880', '764766', '717497', '717490', '717491', '717492', '717493', '765176', '717498', '717499', '765171', '718064', '718066', '765164', '769431', '769430', '717610', '767053', '767621', '772596', '772597', '767350', '767351', '716571', '773023', '767585', '773024', '717483', '718379', '717481', '717480', '717486', '764120', '772151', '718371', '717489', '717488', '717818', '718076', '718072', '767455', '767454', '761599', '717099', '773916', '716968', '769467', '717576', '717573', '717572', '717571', '717570', '764760', '718089', '769847', '717608', '767523', '716942', '718090', '769867', '717472', '717473', '759591', '764781', '765099', '762329', '716953', '716951', '767509', '765182', '769358', '772513', '716958', '718496', '769346', '773904', '718499', '764853', '761003', '717502', '759602', '717504', '763995', '717508', '765265', '773996', '773995', '717469', '717468', '764106', '717465', '764794', '717466', '717461', '717460', '717463', '717462', '769345', '716943', '772669', '717582', '717583', '717580', '716949', '717587', '772178', '717585', '716939', '768469', '764101', '767554', '773975', '773974', '717510', '717513', '717825', '767495', '767494', '717821', '717823', '717458', '717459', '769926', '764858', '717450', '717452', '717453', '759772', '717456', '771673', '772167', '769372', '774204', '769806', '717590', '717592', '717595', '772168', '718141', '769373']\n"
     ]
    }
   ],
   "source": [
    "print(len(sensor_ids))\n",
    "print(sensor_ids)"
   ]
  },
  {
   "cell_type": "code",
   "execution_count": 22,
   "metadata": {},
   "outputs": [
    {
     "name": "stdout",
     "output_type": "stream",
     "text": [
      "{'773869': 0, '767541': 1, '767542': 2, '717447': 3, '717446': 4, '717445': 5, '773062': 6, '767620': 7, '737529': 8, '717816': 9, '765604': 10, '767471': 11, '716339': 12, '773906': 13, '765273': 14, '716331': 15, '771667': 16, '716337': 17, '769953': 18, '769402': 19, '769403': 20, '769819': 21, '769405': 22, '716941': 23, '717578': 24, '716960': 25, '717804': 26, '767572': 27, '767573': 28, '773012': 29, '773013': 30, '764424': 31, '769388': 32, '716328': 33, '717819': 34, '769941': 35, '760987': 36, '718204': 37, '718045': 38, '769418': 39, '768066': 40, '772140': 41, '773927': 42, '760024': 43, '774012': 44, '774011': 45, '767609': 46, '769359': 47, '760650': 48, '716956': 49, '769831': 50, '761604': 51, '717495': 52, '716554': 53, '773953': 54, '767470': 55, '716955': 56, '764949': 57, '773954': 58, '767366': 59, '769444': 60, '773939': 61, '774067': 62, '769443': 63, '767750': 64, '767751': 65, '767610': 66, '773880': 67, '764766': 68, '717497': 69, '717490': 70, '717491': 71, '717492': 72, '717493': 73, '765176': 74, '717498': 75, '717499': 76, '765171': 77, '718064': 78, '718066': 79, '765164': 80, '769431': 81, '769430': 82, '717610': 83, '767053': 84, '767621': 85, '772596': 86, '772597': 87, '767350': 88, '767351': 89, '716571': 90, '773023': 91, '767585': 92, '773024': 93, '717483': 94, '718379': 95, '717481': 96, '717480': 97, '717486': 98, '764120': 99, '772151': 100, '718371': 101, '717489': 102, '717488': 103, '717818': 104, '718076': 105, '718072': 106, '767455': 107, '767454': 108, '761599': 109, '717099': 110, '773916': 111, '716968': 112, '769467': 113, '717576': 114, '717573': 115, '717572': 116, '717571': 117, '717570': 118, '764760': 119, '718089': 120, '769847': 121, '717608': 122, '767523': 123, '716942': 124, '718090': 125, '769867': 126, '717472': 127, '717473': 128, '759591': 129, '764781': 130, '765099': 131, '762329': 132, '716953': 133, '716951': 134, '767509': 135, '765182': 136, '769358': 137, '772513': 138, '716958': 139, '718496': 140, '769346': 141, '773904': 142, '718499': 143, '764853': 144, '761003': 145, '717502': 146, '759602': 147, '717504': 148, '763995': 149, '717508': 150, '765265': 151, '773996': 152, '773995': 153, '717469': 154, '717468': 155, '764106': 156, '717465': 157, '764794': 158, '717466': 159, '717461': 160, '717460': 161, '717463': 162, '717462': 163, '769345': 164, '716943': 165, '772669': 166, '717582': 167, '717583': 168, '717580': 169, '716949': 170, '717587': 171, '772178': 172, '717585': 173, '716939': 174, '768469': 175, '764101': 176, '767554': 177, '773975': 178, '773974': 179, '717510': 180, '717513': 181, '717825': 182, '767495': 183, '767494': 184, '717821': 185, '717823': 186, '717458': 187, '717459': 188, '769926': 189, '764858': 190, '717450': 191, '717452': 192, '717453': 193, '759772': 194, '717456': 195, '771673': 196, '772167': 197, '769372': 198, '774204': 199, '769806': 200, '717590': 201, '717592': 202, '717595': 203, '772168': 204, '718141': 205, '769373': 206}\n"
     ]
    }
   ],
   "source": [
    "print(sensor_id_to_ind)"
   ]
  },
  {
   "cell_type": "code",
   "execution_count": 23,
   "metadata": {},
   "outputs": [],
   "source": [
    "df_ids_to_indx = pd.DataFrame(sensor_id_to_ind, index=['index'])"
   ]
  },
  {
   "cell_type": "code",
   "execution_count": 24,
   "metadata": {},
   "outputs": [
    {
     "data": {
      "text/html": [
       "<div>\n",
       "<style scoped>\n",
       "    .dataframe tbody tr th:only-of-type {\n",
       "        vertical-align: middle;\n",
       "    }\n",
       "\n",
       "    .dataframe tbody tr th {\n",
       "        vertical-align: top;\n",
       "    }\n",
       "\n",
       "    .dataframe thead th {\n",
       "        text-align: right;\n",
       "    }\n",
       "</style>\n",
       "<table border=\"1\" class=\"dataframe\">\n",
       "  <thead>\n",
       "    <tr style=\"text-align: right;\">\n",
       "      <th></th>\n",
       "      <th>773869</th>\n",
       "      <th>767541</th>\n",
       "      <th>767542</th>\n",
       "      <th>717447</th>\n",
       "      <th>717446</th>\n",
       "      <th>717445</th>\n",
       "      <th>773062</th>\n",
       "      <th>767620</th>\n",
       "      <th>737529</th>\n",
       "      <th>717816</th>\n",
       "      <th>...</th>\n",
       "      <th>772167</th>\n",
       "      <th>769372</th>\n",
       "      <th>774204</th>\n",
       "      <th>769806</th>\n",
       "      <th>717590</th>\n",
       "      <th>717592</th>\n",
       "      <th>717595</th>\n",
       "      <th>772168</th>\n",
       "      <th>718141</th>\n",
       "      <th>769373</th>\n",
       "    </tr>\n",
       "  </thead>\n",
       "  <tbody>\n",
       "    <tr>\n",
       "      <th>index</th>\n",
       "      <td>0</td>\n",
       "      <td>1</td>\n",
       "      <td>2</td>\n",
       "      <td>3</td>\n",
       "      <td>4</td>\n",
       "      <td>5</td>\n",
       "      <td>6</td>\n",
       "      <td>7</td>\n",
       "      <td>8</td>\n",
       "      <td>9</td>\n",
       "      <td>...</td>\n",
       "      <td>197</td>\n",
       "      <td>198</td>\n",
       "      <td>199</td>\n",
       "      <td>200</td>\n",
       "      <td>201</td>\n",
       "      <td>202</td>\n",
       "      <td>203</td>\n",
       "      <td>204</td>\n",
       "      <td>205</td>\n",
       "      <td>206</td>\n",
       "    </tr>\n",
       "  </tbody>\n",
       "</table>\n",
       "<p>1 rows × 207 columns</p>\n",
       "</div>"
      ],
      "text/plain": [
       "       773869  767541  767542  717447  717446  717445  773062  767620  737529  \\\n",
       "index       0       1       2       3       4       5       6       7       8   \n",
       "\n",
       "       717816  ...  772167  769372  774204  769806  717590  717592  717595  \\\n",
       "index       9  ...     197     198     199     200     201     202     203   \n",
       "\n",
       "       772168  718141  769373  \n",
       "index     204     205     206  \n",
       "\n",
       "[1 rows x 207 columns]"
      ]
     },
     "execution_count": 24,
     "metadata": {},
     "output_type": "execute_result"
    }
   ],
   "source": [
    "df_ids_to_indx.head()"
   ]
  },
  {
   "cell_type": "code",
   "execution_count": 25,
   "metadata": {},
   "outputs": [
    {
     "data": {
      "text/html": [
       "<div>\n",
       "<style scoped>\n",
       "    .dataframe tbody tr th:only-of-type {\n",
       "        vertical-align: middle;\n",
       "    }\n",
       "\n",
       "    .dataframe tbody tr th {\n",
       "        vertical-align: top;\n",
       "    }\n",
       "\n",
       "    .dataframe thead th {\n",
       "        text-align: right;\n",
       "    }\n",
       "</style>\n",
       "<table border=\"1\" class=\"dataframe\">\n",
       "  <thead>\n",
       "    <tr style=\"text-align: right;\">\n",
       "      <th></th>\n",
       "      <th>0</th>\n",
       "      <th>1</th>\n",
       "      <th>2</th>\n",
       "      <th>3</th>\n",
       "      <th>4</th>\n",
       "      <th>5</th>\n",
       "      <th>6</th>\n",
       "      <th>7</th>\n",
       "      <th>8</th>\n",
       "      <th>9</th>\n",
       "      <th>...</th>\n",
       "      <th>197</th>\n",
       "      <th>198</th>\n",
       "      <th>199</th>\n",
       "      <th>200</th>\n",
       "      <th>201</th>\n",
       "      <th>202</th>\n",
       "      <th>203</th>\n",
       "      <th>204</th>\n",
       "      <th>205</th>\n",
       "      <th>206</th>\n",
       "    </tr>\n",
       "  </thead>\n",
       "  <tbody>\n",
       "    <tr>\n",
       "      <th>0</th>\n",
       "      <td>1.0</td>\n",
       "      <td>0.000000</td>\n",
       "      <td>0.000000</td>\n",
       "      <td>0.000000</td>\n",
       "      <td>0.000000</td>\n",
       "      <td>0.0</td>\n",
       "      <td>0.000000</td>\n",
       "      <td>0.000000</td>\n",
       "      <td>0.0</td>\n",
       "      <td>0.0</td>\n",
       "      <td>...</td>\n",
       "      <td>0.0</td>\n",
       "      <td>0.0</td>\n",
       "      <td>0.119804</td>\n",
       "      <td>0.0</td>\n",
       "      <td>0.0</td>\n",
       "      <td>0.0</td>\n",
       "      <td>0.0</td>\n",
       "      <td>0.0</td>\n",
       "      <td>0.0</td>\n",
       "      <td>0.0</td>\n",
       "    </tr>\n",
       "    <tr>\n",
       "      <th>1</th>\n",
       "      <td>0.0</td>\n",
       "      <td>1.000000</td>\n",
       "      <td>0.390955</td>\n",
       "      <td>0.000000</td>\n",
       "      <td>0.000000</td>\n",
       "      <td>0.0</td>\n",
       "      <td>0.000000</td>\n",
       "      <td>0.390457</td>\n",
       "      <td>0.0</td>\n",
       "      <td>0.0</td>\n",
       "      <td>...</td>\n",
       "      <td>0.0</td>\n",
       "      <td>0.0</td>\n",
       "      <td>0.000000</td>\n",
       "      <td>0.0</td>\n",
       "      <td>0.0</td>\n",
       "      <td>0.0</td>\n",
       "      <td>0.0</td>\n",
       "      <td>0.0</td>\n",
       "      <td>0.0</td>\n",
       "      <td>0.0</td>\n",
       "    </tr>\n",
       "    <tr>\n",
       "      <th>2</th>\n",
       "      <td>0.0</td>\n",
       "      <td>0.717438</td>\n",
       "      <td>1.000000</td>\n",
       "      <td>0.000000</td>\n",
       "      <td>0.000000</td>\n",
       "      <td>0.0</td>\n",
       "      <td>0.000000</td>\n",
       "      <td>0.000000</td>\n",
       "      <td>0.0</td>\n",
       "      <td>0.0</td>\n",
       "      <td>...</td>\n",
       "      <td>0.0</td>\n",
       "      <td>0.0</td>\n",
       "      <td>0.000000</td>\n",
       "      <td>0.0</td>\n",
       "      <td>0.0</td>\n",
       "      <td>0.0</td>\n",
       "      <td>0.0</td>\n",
       "      <td>0.0</td>\n",
       "      <td>0.0</td>\n",
       "      <td>0.0</td>\n",
       "    </tr>\n",
       "    <tr>\n",
       "      <th>3</th>\n",
       "      <td>0.0</td>\n",
       "      <td>0.000000</td>\n",
       "      <td>0.000000</td>\n",
       "      <td>1.000000</td>\n",
       "      <td>0.633722</td>\n",
       "      <td>0.0</td>\n",
       "      <td>0.000000</td>\n",
       "      <td>0.000000</td>\n",
       "      <td>0.0</td>\n",
       "      <td>0.0</td>\n",
       "      <td>...</td>\n",
       "      <td>0.0</td>\n",
       "      <td>0.0</td>\n",
       "      <td>0.000000</td>\n",
       "      <td>0.0</td>\n",
       "      <td>0.0</td>\n",
       "      <td>0.0</td>\n",
       "      <td>0.0</td>\n",
       "      <td>0.0</td>\n",
       "      <td>0.0</td>\n",
       "      <td>0.0</td>\n",
       "    </tr>\n",
       "    <tr>\n",
       "      <th>4</th>\n",
       "      <td>0.0</td>\n",
       "      <td>0.000000</td>\n",
       "      <td>0.000000</td>\n",
       "      <td>0.626464</td>\n",
       "      <td>1.000000</td>\n",
       "      <td>0.0</td>\n",
       "      <td>0.135197</td>\n",
       "      <td>0.000000</td>\n",
       "      <td>0.0</td>\n",
       "      <td>0.0</td>\n",
       "      <td>...</td>\n",
       "      <td>0.0</td>\n",
       "      <td>0.0</td>\n",
       "      <td>0.000000</td>\n",
       "      <td>0.0</td>\n",
       "      <td>0.0</td>\n",
       "      <td>0.0</td>\n",
       "      <td>0.0</td>\n",
       "      <td>0.0</td>\n",
       "      <td>0.0</td>\n",
       "      <td>0.0</td>\n",
       "    </tr>\n",
       "  </tbody>\n",
       "</table>\n",
       "<p>5 rows × 207 columns</p>\n",
       "</div>"
      ],
      "text/plain": [
       "   0         1         2         3         4    5         6         7    8    \\\n",
       "0  1.0  0.000000  0.000000  0.000000  0.000000  0.0  0.000000  0.000000  0.0   \n",
       "1  0.0  1.000000  0.390955  0.000000  0.000000  0.0  0.000000  0.390457  0.0   \n",
       "2  0.0  0.717438  1.000000  0.000000  0.000000  0.0  0.000000  0.000000  0.0   \n",
       "3  0.0  0.000000  0.000000  1.000000  0.633722  0.0  0.000000  0.000000  0.0   \n",
       "4  0.0  0.000000  0.000000  0.626464  1.000000  0.0  0.135197  0.000000  0.0   \n",
       "\n",
       "   9    ...  197  198       199  200  201  202  203  204  205  206  \n",
       "0  0.0  ...  0.0  0.0  0.119804  0.0  0.0  0.0  0.0  0.0  0.0  0.0  \n",
       "1  0.0  ...  0.0  0.0  0.000000  0.0  0.0  0.0  0.0  0.0  0.0  0.0  \n",
       "2  0.0  ...  0.0  0.0  0.000000  0.0  0.0  0.0  0.0  0.0  0.0  0.0  \n",
       "3  0.0  ...  0.0  0.0  0.000000  0.0  0.0  0.0  0.0  0.0  0.0  0.0  \n",
       "4  0.0  ...  0.0  0.0  0.000000  0.0  0.0  0.0  0.0  0.0  0.0  0.0  \n",
       "\n",
       "[5 rows x 207 columns]"
      ]
     },
     "execution_count": 25,
     "metadata": {},
     "output_type": "execute_result"
    }
   ],
   "source": [
    "pd_adjmx = pd.DataFrame(adj_mx)\n",
    "pd_adjmx.head()"
   ]
  },
  {
   "cell_type": "code",
   "execution_count": 26,
   "metadata": {},
   "outputs": [
    {
     "data": {
      "image/png": "[encoded data removed]",
      "text/plain": [
       "<Figure size 432x288 with 1 Axes>"
      ]
     },
     "metadata": {},
     "output_type": "display_data"
    }
   ],
   "source": [
    "plt.imshow(adj_mx, cmap='hot', interpolation='nearest')\n",
    "plt.show()"
   ]
  },
  {
   "cell_type": "code",
   "execution_count": 27,
   "metadata": {},
   "outputs": [],
   "source": [
    "temp_adj = sp.coo_matrix(adj_mx)"
   ]
  },
  {
   "cell_type": "code",
   "execution_count": 28,
   "metadata": {},
   "outputs": [
    {
     "data": {
      "text/html": [
       "<div>\n",
       "<style scoped>\n",
       "    .dataframe tbody tr th:only-of-type {\n",
       "        vertical-align: middle;\n",
       "    }\n",
       "\n",
       "    .dataframe tbody tr th {\n",
       "        vertical-align: top;\n",
       "    }\n",
       "\n",
       "    .dataframe thead th {\n",
       "        text-align: right;\n",
       "    }\n",
       "</style>\n",
       "<table border=\"1\" class=\"dataframe\">\n",
       "  <thead>\n",
       "    <tr style=\"text-align: right;\">\n",
       "      <th></th>\n",
       "      <th>0</th>\n",
       "      <th>1</th>\n",
       "      <th>2</th>\n",
       "      <th>3</th>\n",
       "      <th>4</th>\n",
       "      <th>5</th>\n",
       "      <th>6</th>\n",
       "      <th>7</th>\n",
       "      <th>8</th>\n",
       "      <th>9</th>\n",
       "      <th>...</th>\n",
       "      <th>197</th>\n",
       "      <th>198</th>\n",
       "      <th>199</th>\n",
       "      <th>200</th>\n",
       "      <th>201</th>\n",
       "      <th>202</th>\n",
       "      <th>203</th>\n",
       "      <th>204</th>\n",
       "      <th>205</th>\n",
       "      <th>206</th>\n",
       "    </tr>\n",
       "  </thead>\n",
       "  <tbody>\n",
       "    <tr>\n",
       "      <th>0</th>\n",
       "      <td>1.0</td>\n",
       "      <td>0.000000</td>\n",
       "      <td>0.000000</td>\n",
       "      <td>0.000000</td>\n",
       "      <td>0.000000</td>\n",
       "      <td>0.0</td>\n",
       "      <td>0.000000</td>\n",
       "      <td>0.000000</td>\n",
       "      <td>0.0</td>\n",
       "      <td>0.0</td>\n",
       "      <td>...</td>\n",
       "      <td>0.0</td>\n",
       "      <td>0.0</td>\n",
       "      <td>0.119804</td>\n",
       "      <td>0.0</td>\n",
       "      <td>0.0</td>\n",
       "      <td>0.0</td>\n",
       "      <td>0.0</td>\n",
       "      <td>0.0</td>\n",
       "      <td>0.0</td>\n",
       "      <td>0.0</td>\n",
       "    </tr>\n",
       "    <tr>\n",
       "      <th>1</th>\n",
       "      <td>0.0</td>\n",
       "      <td>1.000000</td>\n",
       "      <td>0.390955</td>\n",
       "      <td>0.000000</td>\n",
       "      <td>0.000000</td>\n",
       "      <td>0.0</td>\n",
       "      <td>0.000000</td>\n",
       "      <td>0.390457</td>\n",
       "      <td>0.0</td>\n",
       "      <td>0.0</td>\n",
       "      <td>...</td>\n",
       "      <td>0.0</td>\n",
       "      <td>0.0</td>\n",
       "      <td>0.000000</td>\n",
       "      <td>0.0</td>\n",
       "      <td>0.0</td>\n",
       "      <td>0.0</td>\n",
       "      <td>0.0</td>\n",
       "      <td>0.0</td>\n",
       "      <td>0.0</td>\n",
       "      <td>0.0</td>\n",
       "    </tr>\n",
       "    <tr>\n",
       "      <th>2</th>\n",
       "      <td>0.0</td>\n",
       "      <td>0.717438</td>\n",
       "      <td>1.000000</td>\n",
       "      <td>0.000000</td>\n",
       "      <td>0.000000</td>\n",
       "      <td>0.0</td>\n",
       "      <td>0.000000</td>\n",
       "      <td>0.000000</td>\n",
       "      <td>0.0</td>\n",
       "      <td>0.0</td>\n",
       "      <td>...</td>\n",
       "      <td>0.0</td>\n",
       "      <td>0.0</td>\n",
       "      <td>0.000000</td>\n",
       "      <td>0.0</td>\n",
       "      <td>0.0</td>\n",
       "      <td>0.0</td>\n",
       "      <td>0.0</td>\n",
       "      <td>0.0</td>\n",
       "      <td>0.0</td>\n",
       "      <td>0.0</td>\n",
       "    </tr>\n",
       "    <tr>\n",
       "      <th>3</th>\n",
       "      <td>0.0</td>\n",
       "      <td>0.000000</td>\n",
       "      <td>0.000000</td>\n",
       "      <td>1.000000</td>\n",
       "      <td>0.633722</td>\n",
       "      <td>0.0</td>\n",
       "      <td>0.000000</td>\n",
       "      <td>0.000000</td>\n",
       "      <td>0.0</td>\n",
       "      <td>0.0</td>\n",
       "      <td>...</td>\n",
       "      <td>0.0</td>\n",
       "      <td>0.0</td>\n",
       "      <td>0.000000</td>\n",
       "      <td>0.0</td>\n",
       "      <td>0.0</td>\n",
       "      <td>0.0</td>\n",
       "      <td>0.0</td>\n",
       "      <td>0.0</td>\n",
       "      <td>0.0</td>\n",
       "      <td>0.0</td>\n",
       "    </tr>\n",
       "    <tr>\n",
       "      <th>4</th>\n",
       "      <td>0.0</td>\n",
       "      <td>0.000000</td>\n",
       "      <td>0.000000</td>\n",
       "      <td>0.626464</td>\n",
       "      <td>1.000000</td>\n",
       "      <td>0.0</td>\n",
       "      <td>0.135197</td>\n",
       "      <td>0.000000</td>\n",
       "      <td>0.0</td>\n",
       "      <td>0.0</td>\n",
       "      <td>...</td>\n",
       "      <td>0.0</td>\n",
       "      <td>0.0</td>\n",
       "      <td>0.000000</td>\n",
       "      <td>0.0</td>\n",
       "      <td>0.0</td>\n",
       "      <td>0.0</td>\n",
       "      <td>0.0</td>\n",
       "      <td>0.0</td>\n",
       "      <td>0.0</td>\n",
       "      <td>0.0</td>\n",
       "    </tr>\n",
       "  </tbody>\n",
       "</table>\n",
       "<p>5 rows × 207 columns</p>\n",
       "</div>"
      ],
      "text/plain": [
       "   0         1         2         3         4    5         6         7    8    \\\n",
       "0  1.0  0.000000  0.000000  0.000000  0.000000  0.0  0.000000  0.000000  0.0   \n",
       "1  0.0  1.000000  0.390955  0.000000  0.000000  0.0  0.000000  0.390457  0.0   \n",
       "2  0.0  0.717438  1.000000  0.000000  0.000000  0.0  0.000000  0.000000  0.0   \n",
       "3  0.0  0.000000  0.000000  1.000000  0.633722  0.0  0.000000  0.000000  0.0   \n",
       "4  0.0  0.000000  0.000000  0.626464  1.000000  0.0  0.135197  0.000000  0.0   \n",
       "\n",
       "   9    ...  197  198       199  200  201  202  203  204  205  206  \n",
       "0  0.0  ...  0.0  0.0  0.119804  0.0  0.0  0.0  0.0  0.0  0.0  0.0  \n",
       "1  0.0  ...  0.0  0.0  0.000000  0.0  0.0  0.0  0.0  0.0  0.0  0.0  \n",
       "2  0.0  ...  0.0  0.0  0.000000  0.0  0.0  0.0  0.0  0.0  0.0  0.0  \n",
       "3  0.0  ...  0.0  0.0  0.000000  0.0  0.0  0.0  0.0  0.0  0.0  0.0  \n",
       "4  0.0  ...  0.0  0.0  0.000000  0.0  0.0  0.0  0.0  0.0  0.0  0.0  \n",
       "\n",
       "[5 rows x 207 columns]"
      ]
     },
     "execution_count": 28,
     "metadata": {},
     "output_type": "execute_result"
    }
   ],
   "source": [
    "temp_sparse = pd.DataFrame(temp_adj.toarray())\n",
    "temp_sparse.head()\n"
   ]
  },
  {
   "cell_type": "code",
   "execution_count": 29,
   "metadata": {},
   "outputs": [
    {
     "name": "stdout",
     "output_type": "stream",
     "text": [
      "[4.8790474 3.8074965 4.7728834 6.3491626 6.529217  5.978633  2.5448685\n",
      " 5.8831587 3.908402  1.9547358 2.9890707 3.6266563 6.577396  4.2766533\n",
      " 4.20866   4.169542  6.612697  6.00738   2.2409236 5.634365  5.5093412\n",
      " 2.5499327 3.6182978 2.7666893 4.8741946 3.356218  1.        3.9139664\n",
      " 4.878662  3.3243592 2.0901759 1.8946577 5.387334  5.5656667 2.257032\n",
      " 1.5289236 4.18594   5.3190236 5.7731876 5.766285  5.9297867 4.5902443\n",
      " 4.5250587 3.1932726 3.4232037 1.5891383 1.2189673 4.577391  5.156733\n",
      " 2.2376528 3.270173  1.7809134 3.153714  4.328876  5.7200537 5.984885\n",
      " 2.4290106 3.8894944 4.4755545 3.5389197 2.8290563 2.6312385 3.8367918\n",
      " 3.6214924 2.391692  1.2534679 1.5699569 3.065265  4.585918  4.0661435\n",
      " 3.5900002 4.918135  2.3088005 2.4735792 5.1320534 3.633504  2.427967\n",
      " 5.5080566 4.227985  3.3422134 6.41047   5.702085  4.0189047 3.4552138\n",
      " 5.4822087 4.14094   2.5961277 4.3992176 5.0501523 3.5999427 1.6620762\n",
      " 6.0069    1.4481485 4.1596856 5.2403245 2.2146904 5.5234118 4.3374615\n",
      " 3.72856   1.521704  3.3561628 3.7211235 5.715797  4.086495  3.0835164\n",
      " 4.7835503 4.292916  2.0841665 4.3354015 4.4232    4.0600724 4.345782\n",
      " 1.2027079 3.7600636 4.797868  4.210113  3.1899176 5.044758  2.9736342\n",
      " 6.3331237 2.6204004 2.1765454 4.0220704 4.018092  2.1115296 2.5923848\n",
      " 1.        6.4917965 5.805848  2.5782452 3.5394278 3.3809235 4.274353\n",
      " 3.1440427 3.1875138 5.135418  5.0720162 4.623765  5.0529175 2.8886743\n",
      " 3.820488  4.4260125 5.9904733 3.3164363 5.0204268 5.547139  2.619953\n",
      " 1.4471858 3.4813929 1.2279849 3.0551455 4.42841   3.5539665 1.9449584\n",
      " 7.945799  7.1238565 2.697467  6.8707237 3.4502647 5.357702  5.2086315\n",
      " 7.0211973 6.291674  6.04986   3.5854108 2.6509001 4.9295144 3.985086\n",
      " 3.393139  2.9984772 2.7252746 4.6157    2.9491029 4.73866   1.883775\n",
      " 5.826709  5.034063  2.9660478 6.545772  1.6453925 1.8566871 1.\n",
      " 1.        1.1794798 4.2718353 3.2307763 1.729321  6.2299905 6.1799135\n",
      " 2.0894127 2.9294627 5.922317  6.0691285 6.308557  1.5711272 7.943045\n",
      " 5.4316344 4.7041235 6.657576  3.7428405 1.2631499 2.793582  1.4869692\n",
      " 1.        3.586601  3.7802744 7.10201  ]\n"
     ]
    }
   ],
   "source": [
    "rowsum = np.array(temp_adj.sum(1)).flatten()\n",
    "print(rowsum)"
   ]
  },
  {
   "cell_type": "code",
   "execution_count": 30,
   "metadata": {},
   "outputs": [
    {
     "name": "stdout",
     "output_type": "stream",
     "text": [
      "[0.20495804 0.26263976 0.20951696 0.15750109 0.15315773 0.16726232\n",
      " 0.3929476  0.16997671 0.25585905 0.5115781  0.33455214 0.2757361\n",
      " 0.15203585 0.2338277  0.23760532 0.2398345  0.15122423 0.16646191\n",
      " 0.44624457 0.17748229 0.1815099  0.3921672  0.27637306 0.36144283\n",
      " 0.2051621  0.2979544  1.         0.25549528 0.20497423 0.30080986\n",
      " 0.47842863 0.52779984 0.18562058 0.179673   0.44305974 0.6540549\n",
      " 0.23889498 0.18800443 0.17321454 0.17342189 0.16864014 0.21785332\n",
      " 0.22099161 0.31315836 0.292124   0.62927186 0.82036656 0.21846506\n",
      " 0.19392122 0.44689685 0.3057942  0.5615096  0.31708646 0.23100685\n",
      " 0.17482354 0.16708758 0.41169026 0.25710282 0.223436   0.28257212\n",
      " 0.35347477 0.38004917 0.26063442 0.27612925 0.41811407 0.79778665\n",
      " 0.63696015 0.32623607 0.21805885 0.24593328 0.27855152 0.2033291\n",
      " 0.43312535 0.4042725  0.19485378 0.27521643 0.4118672  0.18155223\n",
      " 0.23651929 0.29920292 0.1559948  0.17537445 0.24882402 0.28941768\n",
      " 0.18240823 0.24149105 0.38518906 0.22731315 0.19801383 0.2777822\n",
      " 0.6016571  0.16647522 0.6905369  0.24040279 0.19082788 0.45153037\n",
      " 0.18104751 0.2305496  0.26820007 0.657158   0.29795933 0.26873603\n",
      " 0.17495373 0.2447085  0.3243051  0.20904975 0.23294191 0.47980812\n",
      " 0.23065914 0.22608066 0.24630103 0.23010819 0.8314571  0.26595294\n",
      " 0.20842592 0.23752332 0.31348774 0.19822557 0.33628884 0.15789996\n",
      " 0.38162106 0.45944366 0.24862817 0.24887434 0.47359034 0.3857452\n",
      " 1.         0.15404056 0.17224012 0.38786072 0.28253156 0.29577717\n",
      " 0.23395354 0.31806183 0.31372413 0.19472612 0.19716026 0.21627396\n",
      " 0.19790547 0.34617957 0.26174667 0.22593701 0.16693172 0.30152848\n",
      " 0.19918625 0.1802731  0.38168624 0.6909963  0.28724134 0.81434226\n",
      " 0.32731664 0.22581469 0.28137577 0.5141498  0.12585267 0.14037341\n",
      " 0.37071815 0.14554508 0.28983283 0.18664719 0.191989   0.14242585\n",
      " 0.15894021 0.16529308 0.27890807 0.37723035 0.20285974 0.2509356\n",
      " 0.29471236 0.33350262 0.3669355  0.21665187 0.33908617 0.21103013\n",
      " 0.530849   0.17162347 0.19864671 0.337149   0.15277037 0.6077577\n",
      " 0.5385937  1.         1.         0.84783137 0.23409142 0.30952314\n",
      " 0.5782616  0.1605139  0.16181456 0.4786034  0.34135953 0.16885284\n",
      " 0.16476831 0.15851486 0.6364857  0.1258963  0.18410665 0.21257946\n",
      " 0.15020482 0.26717675 0.7916717  0.35796335 0.6725089  1.\n",
      " 0.2788155  0.26453108 0.14080521]\n"
     ]
    }
   ],
   "source": [
    "d_inv = np.power(rowsum, -1).flatten()\n",
    "print(d_inv)\n"
   ]
  },
  {
   "cell_type": "code",
   "execution_count": 31,
   "metadata": {},
   "outputs": [
    {
     "name": "stdout",
     "output_type": "stream",
     "text": [
      "[0.20495804 0.26263976 0.20951696 0.15750109 0.15315773 0.16726232\n",
      " 0.3929476  0.16997671 0.25585905 0.5115781  0.33455214 0.2757361\n",
      " 0.15203585 0.2338277  0.23760532 0.2398345  0.15122423 0.16646191\n",
      " 0.44624457 0.17748229 0.1815099  0.3921672  0.27637306 0.36144283\n",
      " 0.2051621  0.2979544  1.         0.25549528 0.20497423 0.30080986\n",
      " 0.47842863 0.52779984 0.18562058 0.179673   0.44305974 0.6540549\n",
      " 0.23889498 0.18800443 0.17321454 0.17342189 0.16864014 0.21785332\n",
      " 0.22099161 0.31315836 0.292124   0.62927186 0.82036656 0.21846506\n",
      " 0.19392122 0.44689685 0.3057942  0.5615096  0.31708646 0.23100685\n",
      " 0.17482354 0.16708758 0.41169026 0.25710282 0.223436   0.28257212\n",
      " 0.35347477 0.38004917 0.26063442 0.27612925 0.41811407 0.79778665\n",
      " 0.63696015 0.32623607 0.21805885 0.24593328 0.27855152 0.2033291\n",
      " 0.43312535 0.4042725  0.19485378 0.27521643 0.4118672  0.18155223\n",
      " 0.23651929 0.29920292 0.1559948  0.17537445 0.24882402 0.28941768\n",
      " 0.18240823 0.24149105 0.38518906 0.22731315 0.19801383 0.2777822\n",
      " 0.6016571  0.16647522 0.6905369  0.24040279 0.19082788 0.45153037\n",
      " 0.18104751 0.2305496  0.26820007 0.657158   0.29795933 0.26873603\n",
      " 0.17495373 0.2447085  0.3243051  0.20904975 0.23294191 0.47980812\n",
      " 0.23065914 0.22608066 0.24630103 0.23010819 0.8314571  0.26595294\n",
      " 0.20842592 0.23752332 0.31348774 0.19822557 0.33628884 0.15789996\n",
      " 0.38162106 0.45944366 0.24862817 0.24887434 0.47359034 0.3857452\n",
      " 1.         0.15404056 0.17224012 0.38786072 0.28253156 0.29577717\n",
      " 0.23395354 0.31806183 0.31372413 0.19472612 0.19716026 0.21627396\n",
      " 0.19790547 0.34617957 0.26174667 0.22593701 0.16693172 0.30152848\n",
      " 0.19918625 0.1802731  0.38168624 0.6909963  0.28724134 0.81434226\n",
      " 0.32731664 0.22581469 0.28137577 0.5141498  0.12585267 0.14037341\n",
      " 0.37071815 0.14554508 0.28983283 0.18664719 0.191989   0.14242585\n",
      " 0.15894021 0.16529308 0.27890807 0.37723035 0.20285974 0.2509356\n",
      " 0.29471236 0.33350262 0.3669355  0.21665187 0.33908617 0.21103013\n",
      " 0.530849   0.17162347 0.19864671 0.337149   0.15277037 0.6077577\n",
      " 0.5385937  1.         1.         0.84783137 0.23409142 0.30952314\n",
      " 0.5782616  0.1605139  0.16181456 0.4786034  0.34135953 0.16885284\n",
      " 0.16476831 0.15851486 0.6364857  0.1258963  0.18410665 0.21257946\n",
      " 0.15020482 0.26717675 0.7916717  0.35796335 0.6725089  1.\n",
      " 0.2788155  0.26453108 0.14080521]\n"
     ]
    }
   ],
   "source": [
    "d_inv[np.isinf(d_inv)] = 0.\n",
    "print(d_inv)\n"
   ]
  },
  {
   "cell_type": "code",
   "execution_count": 32,
   "metadata": {},
   "outputs": [
    {
     "name": "stdout",
     "output_type": "stream",
     "text": [
      "  (0, 0)\t0.20495804\n",
      "  (1, 1)\t0.26263976\n",
      "  (2, 2)\t0.20951696\n",
      "  (3, 3)\t0.15750109\n",
      "  (4, 4)\t0.15315773\n",
      "  (5, 5)\t0.16726232\n",
      "  (6, 6)\t0.3929476\n",
      "  (7, 7)\t0.16997671\n",
      "  (8, 8)\t0.25585905\n",
      "  (9, 9)\t0.5115781\n",
      "  (10, 10)\t0.33455214\n",
      "  (11, 11)\t0.2757361\n",
      "  (12, 12)\t0.15203585\n",
      "  (13, 13)\t0.2338277\n",
      "  (14, 14)\t0.23760532\n",
      "  (15, 15)\t0.2398345\n",
      "  (16, 16)\t0.15122423\n",
      "  (17, 17)\t0.16646191\n",
      "  (18, 18)\t0.44624457\n",
      "  (19, 19)\t0.17748229\n",
      "  (20, 20)\t0.1815099\n",
      "  (21, 21)\t0.3921672\n",
      "  (22, 22)\t0.27637306\n",
      "  (23, 23)\t0.36144283\n",
      "  (24, 24)\t0.2051621\n",
      "  :\t:\n",
      "  (182, 182)\t1.0\n",
      "  (183, 183)\t0.84783137\n",
      "  (184, 184)\t0.23409142\n",
      "  (185, 185)\t0.30952314\n",
      "  (186, 186)\t0.5782616\n",
      "  (187, 187)\t0.1605139\n",
      "  (188, 188)\t0.16181456\n",
      "  (189, 189)\t0.4786034\n",
      "  (190, 190)\t0.34135953\n",
      "  (191, 191)\t0.16885284\n",
      "  (192, 192)\t0.16476831\n",
      "  (193, 193)\t0.15851486\n",
      "  (194, 194)\t0.6364857\n",
      "  (195, 195)\t0.1258963\n",
      "  (196, 196)\t0.18410665\n",
      "  (197, 197)\t0.21257946\n",
      "  (198, 198)\t0.15020482\n",
      "  (199, 199)\t0.26717675\n",
      "  (200, 200)\t0.7916717\n",
      "  (201, 201)\t0.35796335\n",
      "  (202, 202)\t0.6725089\n",
      "  (203, 203)\t1.0\n",
      "  (204, 204)\t0.2788155\n",
      "  (205, 205)\t0.26453108\n",
      "  (206, 206)\t0.14080521\n"
     ]
    }
   ],
   "source": [
    "d_mat = sp.diags(d_inv)\n",
    "print(d_mat)\n"
   ]
  },
  {
   "cell_type": "code",
   "execution_count": 33,
   "metadata": {},
   "outputs": [
    {
     "name": "stdout",
     "output_type": "stream",
     "text": [
      "        0         1         2         3         4    5         6        7    \\\n",
      "0  0.204958  0.000000  0.000000  0.000000  0.000000  0.0  0.000000  0.00000   \n",
      "1  0.000000  0.262640  0.102680  0.000000  0.000000  0.0  0.000000  0.10255   \n",
      "2  0.000000  0.150315  0.209517  0.000000  0.000000  0.0  0.000000  0.00000   \n",
      "3  0.000000  0.000000  0.000000  0.157501  0.099812  0.0  0.000000  0.00000   \n",
      "4  0.000000  0.000000  0.000000  0.095948  0.153158  0.0  0.020706  0.00000   \n",
      "\n",
      "   8    9    ...  197  198       199  200  201  202  203  204  205  206  \n",
      "0  0.0  0.0  ...  0.0  0.0  0.024555  0.0  0.0  0.0  0.0  0.0  0.0  0.0  \n",
      "1  0.0  0.0  ...  0.0  0.0  0.000000  0.0  0.0  0.0  0.0  0.0  0.0  0.0  \n",
      "2  0.0  0.0  ...  0.0  0.0  0.000000  0.0  0.0  0.0  0.0  0.0  0.0  0.0  \n",
      "3  0.0  0.0  ...  0.0  0.0  0.000000  0.0  0.0  0.0  0.0  0.0  0.0  0.0  \n",
      "4  0.0  0.0  ...  0.0  0.0  0.000000  0.0  0.0  0.0  0.0  0.0  0.0  0.0  \n",
      "\n",
      "[5 rows x 207 columns]\n"
     ]
    },
    {
     "data": {
      "image/png": "[encoded data removed]",
      "text/plain": [
       "<Figure size 432x288 with 1 Axes>"
      ]
     },
     "metadata": {},
     "output_type": "display_data"
    }
   ],
   "source": [
    "ad_mat = d_mat.dot(temp_adj).astype(np.float32).todense()\n",
    "df_a = pd.DataFrame(ad_mat)\n",
    "print(df_a.head(5))\n",
    "plt.imshow(df_a, cmap='hot', interpolation='nearest')\n",
    "plt.show()\n",
    "\n"
   ]
  },
  {
   "cell_type": "code",
   "execution_count": 34,
   "metadata": {},
   "outputs": [],
   "source": [
    "adj = [asym_adj(adj_mx), asym_adj(np.transpose(adj_mx))]"
   ]
  },
  {
   "cell_type": "code",
   "execution_count": 35,
   "metadata": {},
   "outputs": [
    {
     "data": {
      "image/png": "[encoded data removed]",
      "text/plain": [
       "<Figure size 432x288 with 1 Axes>"
      ]
     },
     "metadata": {},
     "output_type": "display_data"
    }
   ],
   "source": [
    "plt.imshow(adj[0], cmap='hot', interpolation='nearest')\n",
    "plt.show()"
   ]
  },
  {
   "cell_type": "code",
   "execution_count": 36,
   "metadata": {},
   "outputs": [
    {
     "data": {
      "image/png": "[encoded data removed]",
      "text/plain": [
       "<Figure size 432x288 with 1 Axes>"
      ]
     },
     "metadata": {},
     "output_type": "display_data"
    }
   ],
   "source": [
    "plt.imshow(adj[1], cmap='hot', interpolation='nearest')\n",
    "plt.show()"
   ]
  },
  {
   "cell_type": "code",
   "execution_count": 37,
   "metadata": {},
   "outputs": [],
   "source": [
    "supports = [torch.tensor(i).to(device) for i in adj]"
   ]
  },
  {
   "cell_type": "code",
   "execution_count": 38,
   "metadata": {},
   "outputs": [
    {
     "data": {
      "text/plain": [
       "[tensor([[0.2050, 0.0000, 0.0000,  ..., 0.0000, 0.0000, 0.0000],\n",
       "         [0.0000, 0.2626, 0.1027,  ..., 0.0000, 0.0000, 0.0000],\n",
       "         [0.0000, 0.1503, 0.2095,  ..., 0.0000, 0.0000, 0.0000],\n",
       "         ...,\n",
       "         [0.0000, 0.0000, 0.0000,  ..., 0.2788, 0.0000, 0.0000],\n",
       "         [0.0000, 0.0000, 0.0000,  ..., 0.0000, 0.2645, 0.0000],\n",
       "         [0.0000, 0.0000, 0.0000,  ..., 0.0000, 0.0000, 0.1408]]),\n",
       " tensor([[0.2452, 0.0000, 0.0000,  ..., 0.0000, 0.0000, 0.0000],\n",
       "         [0.0000, 0.1789, 0.1283,  ..., 0.0000, 0.0000, 0.0000],\n",
       "         [0.0000, 0.0968, 0.2475,  ..., 0.0000, 0.0000, 0.0000],\n",
       "         ...,\n",
       "         [0.0000, 0.0000, 0.0000,  ..., 0.4463, 0.0000, 0.0000],\n",
       "         [0.0000, 0.0000, 0.0000,  ..., 0.0000, 0.2833, 0.0000],\n",
       "         [0.0000, 0.0000, 0.0000,  ..., 0.0000, 0.0000, 0.1831]])]"
      ]
     },
     "execution_count": 38,
     "metadata": {},
     "output_type": "execute_result"
    }
   ],
   "source": [
    "supports"
   ]
  },
  {
   "cell_type": "code",
   "execution_count": 39,
   "metadata": {},
   "outputs": [],
   "source": [
    "adjacency_init = supports[0]"
   ]
  },
  {
   "cell_type": "code",
   "execution_count": 40,
   "metadata": {},
   "outputs": [],
   "source": [
    "def shuffle(xs, ys):\n",
    "  size = len(xs)\n",
    "  permutation = np.random.permutation(size)\n",
    "  xs, ys = xs[permutation], ys[permutation]\n",
    "  return xs, ys\n"
   ]
  },
  {
   "cell_type": "code",
   "execution_count": 41,
   "metadata": {},
   "outputs": [],
   "source": [
    "xtrain, ytrain = shuffle(xtrain, ytrain)"
   ]
  },
  {
   "cell_type": "code",
   "execution_count": 42,
   "metadata": {},
   "outputs": [],
   "source": [
    "xtrain = torch.Tensor(xtrain).to(device)\n",
    "ytrain = torch.Tensor(ytrain).to(device)"
   ]
  },
  {
   "cell_type": "code",
   "execution_count": 43,
   "metadata": {},
   "outputs": [],
   "source": [
    "trainx = xtrain.transpose(1,3)\n",
    "trainy = ytrain.transpose(1,3)"
   ]
  },
  {
   "cell_type": "code",
   "execution_count": 44,
   "metadata": {},
   "outputs": [
    {
     "name": "stdout",
     "output_type": "stream",
     "text": [
      "Before transpose: torch.Size([24000, 12, 207, 2])\n",
      "After transpose: torch.Size([24000, 2, 207, 12])\n"
     ]
    }
   ],
   "source": [
    "print('Before transpose:', xtrain.shape)\n",
    "print('After transpose:', trainx.shape)"
   ]
  },
  {
   "cell_type": "code",
   "execution_count": 45,
   "metadata": {},
   "outputs": [
    {
     "name": "stdout",
     "output_type": "stream",
     "text": [
      "torch.Size([24000, 207, 12])\n"
     ]
    }
   ],
   "source": [
    "# only get traffic data without time data i.e y_real = speed\n",
    "y_temp =  trainy[:, 0, :, :]\n",
    "print(y_temp.shape)"
   ]
  },
  {
   "cell_type": "code",
   "execution_count": 46,
   "metadata": {},
   "outputs": [
    {
     "name": "stdout",
     "output_type": "stream",
     "text": [
      "torch.Size([1, 2, 2, 25])\n",
      "tensor([[[[ 0,  1,  2,  3,  4,  5,  6,  7,  8,  9, 10, 11, 12, 13, 14, 15, 16,\n",
      "           17, 18, 19, 20, 21, 22, 23, 24],\n",
      "          [25, 26, 27, 28, 29, 30, 31, 32, 33, 34, 35, 36, 37, 38, 39, 40, 41,\n",
      "           42, 43, 44, 45, 46, 47, 48, 49]],\n",
      "\n",
      "         [[50, 51, 52, 53, 54, 55, 56, 57, 58, 59, 60, 61, 62, 63, 64, 65, 66,\n",
      "           67, 68, 69, 70, 71, 72, 73, 74],\n",
      "          [75, 76, 77, 78, 79, 80, 81, 82, 83, 84, 85, 86, 87, 88, 89, 90, 91,\n",
      "           92, 93, 94, 95, 96, 97, 98, 99]]]])\n",
      "----------\n",
      "torch.Size([1, 2, 2, 26])\n",
      "tensor([[[[ 0,  0,  1,  2,  3,  4,  5,  6,  7,  8,  9, 10, 11, 12, 13, 14, 15,\n",
      "           16, 17, 18, 19, 20, 21, 22, 23, 24],\n",
      "          [ 0, 25, 26, 27, 28, 29, 30, 31, 32, 33, 34, 35, 36, 37, 38, 39, 40,\n",
      "           41, 42, 43, 44, 45, 46, 47, 48, 49]],\n",
      "\n",
      "         [[ 0, 50, 51, 52, 53, 54, 55, 56, 57, 58, 59, 60, 61, 62, 63, 64, 65,\n",
      "           66, 67, 68, 69, 70, 71, 72, 73, 74],\n",
      "          [ 0, 75, 76, 77, 78, 79, 80, 81, 82, 83, 84, 85, 86, 87, 88, 89, 90,\n",
      "           91, 92, 93, 94, 95, 96, 97, 98, 99]]]])\n"
     ]
    }
   ],
   "source": [
    "temp_test_pad_array = torch.arange(0, 100, 1).view(1, 2, 2, -1)\n",
    "print(temp_test_pad_array.shape)\n",
    "print(temp_test_pad_array)\n",
    "print('----------')\n",
    "\n",
    "temp_pad_x_in = nn.functional.pad(temp_test_pad_array, (1,0,0,0)) # or (1,0) also works\n",
    "print(temp_pad_x_in.shape)\n",
    "print(temp_pad_x_in)"
   ]
  },
  {
   "cell_type": "code",
   "execution_count": 47,
   "metadata": {},
   "outputs": [
    {
     "name": "stdout",
     "output_type": "stream",
     "text": [
      "torch.Size([24000, 2, 207, 13])\n"
     ]
    }
   ],
   "source": [
    "# pad last dim (seq-dim) with 0\n",
    "x_in = nn.functional.pad(trainx, (1,0,0,0))\n",
    "print(x_in.shape)"
   ]
  },
  {
   "cell_type": "code",
   "execution_count": 48,
   "metadata": {},
   "outputs": [],
   "source": [
    "# model var\n",
    "nhid = 32\n",
    "in_len = x_in.size(3)\n",
    "in_dim = 2\n",
    "out_dim = 12\n",
    "dropout = 0.3\n",
    "gcn_bool = True\n",
    "add_adaptive_adj = True\n",
    "residual_channels = nhid\n",
    "dilation_channels = nhid\n",
    "skip_channels = nhid #* 8\n",
    "end_channels = nhid #* 16\n",
    "layers = 2\n",
    "kernel_size = 2\n",
    "blocks = 4 \n",
    "random_init_adaptive_adjm = None\n",
    "support_len = 3\n",
    "order = 2\n",
    "receptive_field = 1\n",
    "supports_len = len(supports)\n",
    "num_nodes = 207\n",
    "new_dilation = 1\n",
    "additional_scope = kernel_size - 1\n",
    "skip = 0"
   ]
  },
  {
   "cell_type": "code",
   "execution_count": 49,
   "metadata": {},
   "outputs": [],
   "source": [
    "def view_params(param):\n",
    "  for name, p_value in param:\n",
    "    print(\"name: \", name, \" size: \", p_value.shape)"
   ]
  },
  {
   "cell_type": "code",
   "execution_count": 50,
   "metadata": {},
   "outputs": [
    {
     "name": "stdout",
     "output_type": "stream",
     "text": [
      "name:  weight  size:  torch.Size([32, 2, 1, 1])\n",
      "name:  bias  size:  torch.Size([32])\n"
     ]
    }
   ],
   "source": [
    "start_conv = nn.Conv2d(in_channels=in_dim, out_channels=residual_channels, kernel_size=(1, 1)).to(device)\n",
    "view_params(start_conv.named_parameters())\n"
   ]
  },
  {
   "cell_type": "code",
   "execution_count": 51,
   "metadata": {},
   "outputs": [
    {
     "name": "stdout",
     "output_type": "stream",
     "text": [
      "node_embeding1:  torch.Size([207, 10])\n",
      "node_embeding2:  torch.Size([10, 207])\n"
     ]
    }
   ],
   "source": [
    "nodevec1 = nn.Parameter(torch.randn(num_nodes, 10).to(device), requires_grad=True).to(device)\n",
    "nodevec2 = nn.Parameter(torch.randn(10, num_nodes).to(device), requires_grad=True).to(device)\n",
    "supports_len += 1\n",
    "print('node_embeding1: ', nodevec1.shape)\n",
    "print('node_embeding2: ', nodevec2.shape)\n"
   ]
  },
  {
   "cell_type": "code",
   "execution_count": 52,
   "metadata": {},
   "outputs": [
    {
     "name": "stdout",
     "output_type": "stream",
     "text": [
      "name:  weight  size:  torch.Size([32, 32, 1, 2])\n",
      "name:  bias  size:  torch.Size([32])\n"
     ]
    }
   ],
   "source": [
    "filter_convs = nn.Conv2d(in_channels=residual_channels,\n",
    "                                                   out_channels=dilation_channels,\n",
    "                                                   kernel_size=(1, kernel_size), dilation=new_dilation).to(device)\n",
    "view_params(filter_convs.named_parameters())"
   ]
  },
  {
   "cell_type": "code",
   "execution_count": 53,
   "metadata": {},
   "outputs": [
    {
     "name": "stdout",
     "output_type": "stream",
     "text": [
      "name:  weight  size:  torch.Size([32, 32, 1, 2])\n",
      "name:  bias  size:  torch.Size([32])\n"
     ]
    }
   ],
   "source": [
    "gate_convs = nn.Conv1d(in_channels=residual_channels,\n",
    "                                                 out_channels=dilation_channels,\n",
    "                                                 kernel_size=(1, kernel_size), dilation=new_dilation).to(device)\n",
    "view_params(gate_convs.named_parameters())"
   ]
  },
  {
   "cell_type": "code",
   "execution_count": 54,
   "metadata": {},
   "outputs": [
    {
     "name": "stdout",
     "output_type": "stream",
     "text": [
      "name:  weight  size:  torch.Size([32, 32, 1, 1])\n",
      "name:  bias  size:  torch.Size([32])\n"
     ]
    }
   ],
   "source": [
    " # 1x1 convolution for residual connection\n",
    "residual_convs = nn.Conv1d(in_channels=dilation_channels,\n",
    "                                                     out_channels=residual_channels,\n",
    "                                                     kernel_size=(1, 1)).to(device)\n",
    "view_params(residual_convs.named_parameters())"
   ]
  },
  {
   "cell_type": "code",
   "execution_count": 55,
   "metadata": {},
   "outputs": [
    {
     "name": "stdout",
     "output_type": "stream",
     "text": [
      "name:  weight  size:  torch.Size([32, 32, 1, 1])\n",
      "name:  bias  size:  torch.Size([32])\n"
     ]
    }
   ],
   "source": [
    "# 1x1 convolution for skip connection\n",
    "skip_convs = nn.Conv1d(in_channels=dilation_channels, out_channels=skip_channels, kernel_size=(1, 1)).to(device)\n",
    "view_params(skip_convs.named_parameters())"
   ]
  },
  {
   "cell_type": "code",
   "execution_count": 56,
   "metadata": {},
   "outputs": [
    {
     "name": "stdout",
     "output_type": "stream",
     "text": [
      "name:  weight  size:  torch.Size([32])\n",
      "name:  bias  size:  torch.Size([32])\n"
     ]
    }
   ],
   "source": [
    "bn = nn.BatchNorm2d(residual_channels).to(device)\n",
    "view_params(bn.named_parameters())"
   ]
  },
  {
   "cell_type": "code",
   "execution_count": 57,
   "metadata": {},
   "outputs": [
    {
     "name": "stdout",
     "output_type": "stream",
     "text": [
      "name:  weight  size:  torch.Size([32, 224, 1, 1])\n",
      "name:  bias  size:  torch.Size([32])\n"
     ]
    }
   ],
   "source": [
    "# gcn = gcn(dilation_channels, residual_channels, dropout, support_len=self.supports_len))\n",
    "c_in = (order * support_len + 1) * dilation_channels\n",
    "linear = nn.Conv2d(c_in, residual_channels, kernel_size=(1, 1), padding=(0, 0), stride=(1, 1), bias=True).to(device)\n",
    "\n",
    "view_params(linear.named_parameters())"
   ]
  },
  {
   "cell_type": "code",
   "execution_count": 58,
   "metadata": {},
   "outputs": [
    {
     "name": "stdout",
     "output_type": "stream",
     "text": [
      "name:  weight  size:  torch.Size([32, 32, 1, 1])\n",
      "name:  bias  size:  torch.Size([32])\n"
     ]
    }
   ],
   "source": [
    "end_conv_1 = nn.Conv2d(in_channels=skip_channels,\n",
    "                                    out_channels=end_channels,\n",
    "                                    kernel_size=(1, 1),\n",
    "                                    bias=True).to(device)\n",
    "view_params(end_conv_1.named_parameters())"
   ]
  },
  {
   "cell_type": "code",
   "execution_count": 59,
   "metadata": {},
   "outputs": [
    {
     "name": "stdout",
     "output_type": "stream",
     "text": [
      "name:  weight  size:  torch.Size([12, 32, 1, 1])\n",
      "name:  bias  size:  torch.Size([12])\n"
     ]
    }
   ],
   "source": [
    "end_conv_2 = nn.Conv2d(in_channels=end_channels,\n",
    "                                    out_channels=out_dim,\n",
    "                                    kernel_size=(1, 1),\n",
    "                                    bias=True).to(device)\n",
    "view_params(end_conv_2.named_parameters())"
   ]
  },
  {
   "cell_type": "code",
   "execution_count": 60,
   "metadata": {},
   "outputs": [
    {
     "name": "stdout",
     "output_type": "stream",
     "text": [
      "x:before---> torch.Size([24000, 2, 207, 13])\n"
     ]
    }
   ],
   "source": [
    "print('x:before--->', x_in.shape)\n",
    "if in_len < receptive_field:\n",
    "  x_in = nn.functional.pad(x_in, (receptive_field - in_len, 0, 0, 0)).to(device)\n",
    "  print('x:after--->', x_in.shape)"
   ]
  },
  {
   "cell_type": "code",
   "execution_count": 61,
   "metadata": {},
   "outputs": [
    {
     "name": "stdout",
     "output_type": "stream",
     "text": [
      "start_conv:  torch.Size([24000, 32, 207, 13])\n"
     ]
    }
   ],
   "source": [
    "x_in = start_conv(x_in)\n",
    "print('start_conv: ', x_in.shape)"
   ]
  },
  {
   "cell_type": "code",
   "execution_count": 62,
   "metadata": {},
   "outputs": [
    {
     "name": "stdout",
     "output_type": "stream",
     "text": [
      "Adjacency mat:  torch.Size([207, 207])\n",
      "support:  3\n"
     ]
    }
   ],
   "source": [
    "if gcn_bool and add_adaptive_adj and supports is not None:\n",
    "  adp = F.softmax(F.relu(torch.mm(nodevec1, nodevec2)), dim=1).to(device)\n",
    "  new_supports = supports + [adp]\n",
    "  print('Adjacency mat: ', adp.shape)\n",
    "  print('support: ', len(new_supports))"
   ]
  },
  {
   "cell_type": "code",
   "execution_count": 63,
   "metadata": {},
   "outputs": [],
   "source": [
    "residual = x_in"
   ]
  },
  {
   "cell_type": "code",
   "execution_count": 64,
   "metadata": {},
   "outputs": [
    {
     "name": "stdout",
     "output_type": "stream",
     "text": [
      "filter:  torch.Size([24000, 32, 207, 12])\n"
     ]
    }
   ],
   "source": [
    "filter_x = torch.tanh(filter_convs(residual)).to(device)\n",
    "print('filter: ', filter_x.shape)"
   ]
  },
  {
   "cell_type": "code",
   "execution_count": 65,
   "metadata": {},
   "outputs": [
    {
     "name": "stdout",
     "output_type": "stream",
     "text": [
      "gate_x:  torch.Size([24000, 32, 207, 12])\n"
     ]
    }
   ],
   "source": [
    "gate_x = torch.sigmoid(gate_convs(residual)).to(device)\n",
    "print('gate_x: ', gate_x.shape)"
   ]
  },
  {
   "cell_type": "code",
   "execution_count": 66,
   "metadata": {},
   "outputs": [
    {
     "name": "stdout",
     "output_type": "stream",
     "text": [
      "gated_tcn:  torch.Size([24000, 32, 207, 12])\n"
     ]
    }
   ],
   "source": [
    "x_in = filter_x * gate_x\n",
    "print('gated_tcn: ', x_in.shape)"
   ]
  },
  {
   "cell_type": "code",
   "execution_count": 67,
   "metadata": {},
   "outputs": [
    {
     "name": "stdout",
     "output_type": "stream",
     "text": [
      "skip:  torch.Size([24000, 32, 207, 12])\n"
     ]
    }
   ],
   "source": [
    "s = skip_convs(x_in)\n",
    "print('skip: ', s.shape)"
   ]
  },
  {
   "cell_type": "code",
   "execution_count": 68,
   "metadata": {},
   "outputs": [],
   "source": [
    "try:\n",
    "  skip = skip[:, :, :, -s.size(3):]\n",
    "except:\n",
    "  skip = 0"
   ]
  },
  {
   "cell_type": "code",
   "execution_count": 69,
   "metadata": {},
   "outputs": [
    {
     "name": "stdout",
     "output_type": "stream",
     "text": [
      "0\n"
     ]
    }
   ],
   "source": [
    "print(skip)"
   ]
  },
  {
   "cell_type": "code",
   "execution_count": 70,
   "metadata": {},
   "outputs": [
    {
     "name": "stdout",
     "output_type": "stream",
     "text": [
      "nconv:  torch.Size([24000, 32, 207, 12])\n",
      "nconv:  torch.Size([24000, 32, 207, 12])\n",
      "nconv:  torch.Size([24000, 32, 207, 12])\n"
     ]
    },
    {
     "ename": "",
     "evalue": "",
     "output_type": "error",
     "traceback": [
      "\u001b[1;31mCanceled future for execute_request message before replies were done"
     ]
    },
    {
     "ename": "",
     "evalue": "",
     "output_type": "error",
     "traceback": [
      "\u001b[1;31mThe Kernel crashed while executing code in the the current cell or a previous cell. Please review the code in the cell(s) to identify a possible cause of the failure. Click <a href='https://aka.ms/vscodeJupyterKernelCrash'>here</a> for more info. View Jupyter <a href='command:jupyter.viewOutput'>log</a> for further details."
     ]
    }
   ],
   "source": [
    "# GCN\n",
    "out = [x_in]\n",
    "for a in new_supports: \n",
    "  x1 = torch.einsum('ncvl,vw->ncwl', (x_in, a)).to(device)\n",
    "  x1 = x1.contiguous()\n",
    "  out.append(x1)\n",
    "  print('nconv: ', x1.shape)\n",
    "  for k in range(2, order+1):\n",
    "    x2 = torch.einsum('ncvl,vw->ncwl', (x1, a)).to(device)\n",
    "    x2 = x2.contiguous()\n",
    "    out.append(x2)\n",
    "    x1 = x2\n",
    "h = torch.cat(out, dim=1).to(device)\n",
    "h = linear(h)\n",
    "print('linear: ', h.shape)\n",
    "x_in = F.dropout(h, 0.3, training=True).to(device)\n",
    "print('x_in', x_in.shape)\n"
   ]
  },
  {
   "cell_type": "code",
   "execution_count": null,
   "metadata": {},
   "outputs": [
    {
     "name": "stdout",
     "output_type": "stream",
     "text": [
      "torch.Size([6, 32, 207, 12])\n"
     ]
    }
   ],
   "source": [
    "print(residual[:, :, :,-x_in.size(3):].shape)"
   ]
  },
  {
   "cell_type": "code",
   "execution_count": null,
   "metadata": {},
   "outputs": [
    {
     "name": "stdout",
     "output_type": "stream",
     "text": [
      "torch.Size([6, 32, 207, 12])\n"
     ]
    }
   ],
   "source": [
    "x_in = x_in + residual[:, :, :,-x_in.size(3):]\n",
    "print(x_in.shape)"
   ]
  },
  {
   "cell_type": "code",
   "execution_count": null,
   "metadata": {},
   "outputs": [
    {
     "name": "stdout",
     "output_type": "stream",
     "text": [
      "torch.Size([6, 32, 207, 12])\n"
     ]
    }
   ],
   "source": [
    "x_in = bn(x_in)\n",
    "print(x_in.shape)"
   ]
  },
  {
   "cell_type": "code",
   "execution_count": null,
   "metadata": {},
   "outputs": [],
   "source": [
    "# x_in = F.relu(skip)\n",
    "# print(x_in.shape)"
   ]
  },
  {
   "cell_type": "code",
   "execution_count": null,
   "metadata": {},
   "outputs": [
    {
     "name": "stdout",
     "output_type": "stream",
     "text": [
      "torch.Size([6, 32, 207, 12])\n"
     ]
    }
   ],
   "source": [
    "x_in = F.relu(end_conv_1(x_in))\n",
    "print(x_in.shape)\n"
   ]
  },
  {
   "cell_type": "code",
   "execution_count": null,
   "metadata": {},
   "outputs": [
    {
     "name": "stdout",
     "output_type": "stream",
     "text": [
      "torch.Size([6, 12, 207, 12])\n"
     ]
    }
   ],
   "source": [
    "x_in = end_conv_2(x_in)\n",
    "print(x_in.shape)"
   ]
  },
  {
   "cell_type": "code",
   "execution_count": null,
   "metadata": {},
   "outputs": [
    {
     "name": "stdout",
     "output_type": "stream",
     "text": [
      "torch.Size([6, 12, 207, 12])\n"
     ]
    }
   ],
   "source": [
    "predict = scaler.inverse_transform(x_in)\n",
    "print(predict.shape)"
   ]
  },
  {
   "cell_type": "code",
   "execution_count": null,
   "metadata": {},
   "outputs": [
    {
     "name": "stdout",
     "output_type": "stream",
     "text": [
      "torch.Size([6, 1, 207, 12])\n"
     ]
    }
   ],
   "source": [
    "real = torch.unsqueeze(trainy[:, 0, :, :], dim=1)\n",
    "print(real.shape)"
   ]
  },
  {
   "cell_type": "code",
   "execution_count": null,
   "metadata": {},
   "outputs": [],
   "source": [
    "def masked_mae(preds, labels, null_val=np.nan):\n",
    "  if np.isnan(null_val):\n",
    "      mask = ~torch.isnan(labels)\n",
    "  else:\n",
    "      mask = (labels != null_val)\n",
    "  mask = mask.float()\n",
    "  mask /= torch.mean((mask))\n",
    "  mask = torch.where(torch.isnan(mask), torch.zeros_like(mask), mask)\n",
    "  loss = torch.abs(preds - labels)\n",
    "  loss = loss * mask\n",
    "  loss = torch.where(torch.isnan(loss), torch.zeros_like(loss), loss)\n",
    "  print('loss: ', loss.shape)\n",
    "  return torch.mean(loss)"
   ]
  },
  {
   "cell_type": "code",
   "execution_count": null,
   "metadata": {},
   "outputs": [],
   "source": [
    "def masked_mse(preds, labels, null_val=np.nan):\n",
    "    if np.isnan(null_val):\n",
    "        mask = ~torch.isnan(labels)\n",
    "    else:\n",
    "        mask = (labels != null_val)\n",
    "    mask = mask.float()\n",
    "    mask /= torch.mean((mask))\n",
    "    mask = torch.where(torch.isnan(mask), torch.zeros_like(mask), mask)\n",
    "    loss = (preds - labels) ** 2\n",
    "    loss = loss * mask\n",
    "    loss = torch.where(torch.isnan(loss), torch.zeros_like(loss), loss)\n",
    "    return torch.mean(loss)"
   ]
  },
  {
   "cell_type": "code",
   "execution_count": null,
   "metadata": {},
   "outputs": [],
   "source": [
    "def masked_rmse(preds, labels, null_val=np.nan):\n",
    "  return torch.sqrt(masked_mse(preds=preds, labels=labels, null_val=null_val))"
   ]
  },
  {
   "cell_type": "code",
   "execution_count": null,
   "metadata": {},
   "outputs": [],
   "source": [
    "def masked_mape(preds, labels, null_val=np.nan):\n",
    "    if np.isnan(null_val):\n",
    "        mask = ~torch.isnan(labels)\n",
    "    else:\n",
    "        mask = (labels != null_val)\n",
    "    mask = mask.float()\n",
    "    mask /= torch.mean((mask))\n",
    "    mask = torch.where(torch.isnan(mask), torch.zeros_like(mask), mask)\n",
    "    loss = torch.abs(preds - labels) / labels\n",
    "    loss = loss * mask\n",
    "    loss = torch.where(torch.isnan(loss), torch.zeros_like(loss), loss)\n",
    "    return torch.mean(loss)"
   ]
  },
  {
   "cell_type": "code",
   "execution_count": 177,
   "metadata": {},
   "outputs": [
    {
     "name": "stdout",
     "output_type": "stream",
     "text": [
      "loss:  torch.Size([6, 12, 207, 12])\n",
      "Loss:  8.068435668945312\n",
      "MAPE:  13.554035127162933\n",
      "RMSE:  9.709707260131836\n"
     ]
    }
   ],
   "source": [
    "loss = masked_mae(predict, real, 0.0).item()\n",
    "mape = masked_mape(predict, real, 0.0).item()\n",
    "rmse = masked_rmse(predict, real, 0.0).item()\n",
    "print('Loss: ', loss)\n",
    "print('MAPE: ', mape*100)\n",
    "print('RMSE: ', rmse)"
   ]
  },
  {
   "cell_type": "code",
   "execution_count": null,
   "metadata": {},
   "outputs": [
    {
     "data": {
      "text/plain": [
       "tensor(2.)"
      ]
     },
     "execution_count": 69,
     "metadata": {},
     "output_type": "execute_result"
    }
   ],
   "source": [
    "tmean = torch.Tensor([[1,2,3], [3,2,1]])\n",
    "torch.mean(tmean)"
   ]
  }
 ],
 "metadata": {
  "kernelspec": {
   "display_name": "venv",
   "language": "python",
   "name": "python3"
  },
  "language_info": {
   "codemirror_mode": {
    "name": "ipython",
    "version": 3
   },
   "file_extension": ".py",
   "mimetype": "text/x-python",
   "name": "python",
   "nbconvert_exporter": "python",
   "pygments_lexer": "ipython3",
   "version": "3.6.7"
  },
  "orig_nbformat": 4
 },
 "nbformat": 4,
 "nbformat_minor": 2
}
